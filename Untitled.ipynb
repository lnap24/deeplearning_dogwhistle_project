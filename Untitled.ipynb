{
 "cells": [
  {
   "cell_type": "code",
   "execution_count": null,
   "id": "8fd9a95d-c7c0-4cf7-b06c-35123c4208c4",
   "metadata": {},
   "outputs": [],
   "source": [
    "!python3 ./fetch/src/neural/run_multiple.py \\\n",
    "    glossary_fixed.tsv fixed_expansion.json AutoPhrase.txt word2vec.model tomh/toxigen_hatebert"
   ]
  },
  {
   "cell_type": "code",
   "execution_count": null,
   "id": "2f1334de-8b3f-406d-9ff9-32587b6bac1e",
   "metadata": {},
   "outputs": [],
   "source": [
    "!python3 .\\fetch\\src\\scripts\\recall.py"
   ]
  }
 ],
 "metadata": {
  "kernelspec": {
   "display_name": "Python 3 (ipykernel)",
   "language": "python",
   "name": "python3"
  },
  "language_info": {
   "codemirror_mode": {
    "name": "ipython",
    "version": 3
   },
   "file_extension": ".py",
   "mimetype": "text/x-python",
   "name": "python",
   "nbconvert_exporter": "python",
   "pygments_lexer": "ipython3",
   "version": "3.12.4"
  }
 },
 "nbformat": 4,
 "nbformat_minor": 5
}
