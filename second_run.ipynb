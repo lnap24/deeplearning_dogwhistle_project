{
 "cells": [
  {
   "cell_type": "code",
   "execution_count": 1,
   "id": "5de9f107",
   "metadata": {},
   "outputs": [
    {
     "name": "stderr",
     "output_type": "stream",
     "text": [
      "\n",
      "A module that was compiled using NumPy 1.x cannot be run in\n",
      "NumPy 2.2.4 as it may crash. To support both 1.x and 2.x\n",
      "versions of NumPy, modules must be compiled with NumPy 2.0.\n",
      "Some module may need to rebuild instead e.g. with 'pybind11>=2.12'.\n",
      "\n",
      "If you are a user of the module, the easiest solution will be to\n",
      "downgrade to 'numpy<2' or try to upgrade the affected module.\n",
      "We expect that some modules will need time to support NumPy 2.\n",
      "\n",
      "Traceback (most recent call last):  File \"<frozen runpy>\", line 198, in _run_module_as_main\n",
      "  File \"<frozen runpy>\", line 88, in _run_code\n",
      "  File \"/Users/Luke/MSDS/deeplearning_dogwhistle_project/.venv/lib/python3.11/site-packages/ipykernel_launcher.py\", line 18, in <module>\n",
      "    app.launch_new_instance()\n",
      "  File \"/Users/Luke/MSDS/deeplearning_dogwhistle_project/.venv/lib/python3.11/site-packages/traitlets/config/application.py\", line 1075, in launch_instance\n",
      "    app.start()\n",
      "  File \"/Users/Luke/MSDS/deeplearning_dogwhistle_project/.venv/lib/python3.11/site-packages/ipykernel/kernelapp.py\", line 739, in start\n",
      "    self.io_loop.start()\n",
      "  File \"/Users/Luke/MSDS/deeplearning_dogwhistle_project/.venv/lib/python3.11/site-packages/tornado/platform/asyncio.py\", line 205, in start\n",
      "    self.asyncio_loop.run_forever()\n",
      "  File \"/Users/Luke/anaconda3/lib/python3.11/asyncio/base_events.py\", line 607, in run_forever\n",
      "    self._run_once()\n",
      "  File \"/Users/Luke/anaconda3/lib/python3.11/asyncio/base_events.py\", line 1922, in _run_once\n",
      "    handle._run()\n",
      "  File \"/Users/Luke/anaconda3/lib/python3.11/asyncio/events.py\", line 80, in _run\n",
      "    self._context.run(self._callback, *self._args)\n",
      "  File \"/Users/Luke/MSDS/deeplearning_dogwhistle_project/.venv/lib/python3.11/site-packages/ipykernel/kernelbase.py\", line 545, in dispatch_queue\n",
      "    await self.process_one()\n",
      "  File \"/Users/Luke/MSDS/deeplearning_dogwhistle_project/.venv/lib/python3.11/site-packages/ipykernel/kernelbase.py\", line 534, in process_one\n",
      "    await dispatch(*args)\n",
      "  File \"/Users/Luke/MSDS/deeplearning_dogwhistle_project/.venv/lib/python3.11/site-packages/ipykernel/kernelbase.py\", line 437, in dispatch_shell\n",
      "    await result\n",
      "  File \"/Users/Luke/MSDS/deeplearning_dogwhistle_project/.venv/lib/python3.11/site-packages/ipykernel/ipkernel.py\", line 362, in execute_request\n",
      "    await super().execute_request(stream, ident, parent)\n",
      "  File \"/Users/Luke/MSDS/deeplearning_dogwhistle_project/.venv/lib/python3.11/site-packages/ipykernel/kernelbase.py\", line 778, in execute_request\n",
      "    reply_content = await reply_content\n",
      "  File \"/Users/Luke/MSDS/deeplearning_dogwhistle_project/.venv/lib/python3.11/site-packages/ipykernel/ipkernel.py\", line 449, in do_execute\n",
      "    res = shell.run_cell(\n",
      "  File \"/Users/Luke/MSDS/deeplearning_dogwhistle_project/.venv/lib/python3.11/site-packages/ipykernel/zmqshell.py\", line 549, in run_cell\n",
      "    return super().run_cell(*args, **kwargs)\n",
      "  File \"/Users/Luke/MSDS/deeplearning_dogwhistle_project/.venv/lib/python3.11/site-packages/IPython/core/interactiveshell.py\", line 3098, in run_cell\n",
      "    result = self._run_cell(\n",
      "  File \"/Users/Luke/MSDS/deeplearning_dogwhistle_project/.venv/lib/python3.11/site-packages/IPython/core/interactiveshell.py\", line 3153, in _run_cell\n",
      "    result = runner(coro)\n",
      "  File \"/Users/Luke/MSDS/deeplearning_dogwhistle_project/.venv/lib/python3.11/site-packages/IPython/core/async_helpers.py\", line 128, in _pseudo_sync_runner\n",
      "    coro.send(None)\n",
      "  File \"/Users/Luke/MSDS/deeplearning_dogwhistle_project/.venv/lib/python3.11/site-packages/IPython/core/interactiveshell.py\", line 3362, in run_cell_async\n",
      "    has_raised = await self.run_ast_nodes(code_ast.body, cell_name,\n",
      "  File \"/Users/Luke/MSDS/deeplearning_dogwhistle_project/.venv/lib/python3.11/site-packages/IPython/core/interactiveshell.py\", line 3607, in run_ast_nodes\n",
      "    if await self.run_code(code, result, async_=asy):\n",
      "  File \"/Users/Luke/MSDS/deeplearning_dogwhistle_project/.venv/lib/python3.11/site-packages/IPython/core/interactiveshell.py\", line 3667, in run_code\n",
      "    exec(code_obj, self.user_global_ns, self.user_ns)\n",
      "  File \"/var/folders/ks/dtpzjwpd0zlcrpw8t81ybvrr0000gn/T/ipykernel_11433/2346821941.py\", line 2, in <module>\n",
      "    import torch\n",
      "  File \"/Users/Luke/MSDS/deeplearning_dogwhistle_project/.venv/lib/python3.11/site-packages/torch/__init__.py\", line 1477, in <module>\n",
      "    from .functional import *  # noqa: F403\n",
      "  File \"/Users/Luke/MSDS/deeplearning_dogwhistle_project/.venv/lib/python3.11/site-packages/torch/functional.py\", line 9, in <module>\n",
      "    import torch.nn.functional as F\n",
      "  File \"/Users/Luke/MSDS/deeplearning_dogwhistle_project/.venv/lib/python3.11/site-packages/torch/nn/__init__.py\", line 1, in <module>\n",
      "    from .modules import *  # noqa: F403\n",
      "  File \"/Users/Luke/MSDS/deeplearning_dogwhistle_project/.venv/lib/python3.11/site-packages/torch/nn/modules/__init__.py\", line 35, in <module>\n",
      "    from .transformer import TransformerEncoder, TransformerDecoder, \\\n",
      "  File \"/Users/Luke/MSDS/deeplearning_dogwhistle_project/.venv/lib/python3.11/site-packages/torch/nn/modules/transformer.py\", line 20, in <module>\n",
      "    device: torch.device = torch.device(torch._C._get_default_device()),  # torch.device('cpu'),\n",
      "/Users/Luke/MSDS/deeplearning_dogwhistle_project/.venv/lib/python3.11/site-packages/torch/nn/modules/transformer.py:20: UserWarning: Failed to initialize NumPy: _ARRAY_API not found (Triggered internally at /Users/runner/work/pytorch/pytorch/pytorch/torch/csrc/utils/tensor_numpy.cpp:84.)\n",
      "  device: torch.device = torch.device(torch._C._get_default_device()),  # torch.device('cpu'),\n"
     ]
    }
   ],
   "source": [
    "import pandas as pd\n",
    "import torch\n",
    "from sentence_transformers import SentenceTransformer\n",
    "from datasets import load_dataset\n",
    "import chromadb\n",
    "from chromadb.config import Settings\n",
    "from transformers import AutoTokenizer, AutoModelForSequenceClassification\n",
    "import torch.nn.functional as F\n",
    "import yake\n",
    "from keybert import KeyBERT\n",
    "import openai\n",
    "import os\n",
    "from dotenv import load_dotenv"
   ]
  },
  {
   "cell_type": "code",
   "execution_count": 2,
   "id": "b3aba50e",
   "metadata": {},
   "outputs": [],
   "source": [
    "# -------------------------------\n",
    "# Config\n",
    "# -------------------------------\n",
    "DATASET_NAME = \"SALT-NLP/silent_signals\"\n",
    "EMBEDDING_MODEL_NAME = \"sentence-transformers/all-MiniLM-L6-v2\"\n",
    "VECTOR_DB_PATH = \"./vector_store\"\n",
    "CLASSIFIER_MODEL = \"tomh/toxigen_hatebert\"\n",
    "# unitary/toxic-bert didnt seem to work that well"
   ]
  },
  {
   "cell_type": "code",
   "execution_count": 3,
   "id": "c2e1b614",
   "metadata": {},
   "outputs": [],
   "source": [
    "import random\n",
    "\n",
    "random.seed(2002)"
   ]
  },
  {
   "cell_type": "code",
   "execution_count": 4,
   "id": "9936dfd5",
   "metadata": {},
   "outputs": [
    {
     "name": "stdout",
     "output_type": "stream",
     "text": [
      "Loading Silent Signals dataset...\n",
      "Train size: 13006\n",
      "Test size: 3252\n"
     ]
    }
   ],
   "source": [
    "from datasets import load_dataset\n",
    "from sklearn.model_selection import train_test_split\n",
    "import pandas as pd\n",
    "\n",
    "# -------------------------------\n",
    "# Load and manually split SilentSignals\n",
    "# -------------------------------\n",
    "print(\"Loading Silent Signals dataset...\")\n",
    "dataset_raw = load_dataset(DATASET_NAME, split=\"train\")\n",
    "df = pd.DataFrame(dataset_raw)\n",
    "\n",
    "# Drop unnecessary columns\n",
    "df = df.drop(columns=[\"party\", \"chamber\", \"speaker\"])\n",
    "\n",
    "# Manual 80/20 split (no stratification)\n",
    "train_df, silent_test_df = train_test_split(df, test_size=0.2, random_state=42)\n",
    "\n",
    "# Label SilentSignals test slice as coded (1)\n",
    "silent_test_df = silent_test_df[[\"content\"]].copy()\n",
    "silent_test_df[\"label\"] = 1\n",
    "\n",
    "print(f\"Train size: {len(train_df)}\")\n",
    "print(f\"Test size: {len(silent_test_df)}\")"
   ]
  },
  {
   "cell_type": "code",
   "execution_count": 5,
   "id": "2ee0bc22",
   "metadata": {},
   "outputs": [],
   "source": [
    "noncoded_dataset = load_dataset(\"civil_comments\", split=\"train\")\n",
    "noncoded_df = pd.DataFrame(noncoded_dataset)"
   ]
  },
  {
   "cell_type": "code",
   "execution_count": 6,
   "id": "34f3df22",
   "metadata": {},
   "outputs": [],
   "source": [
    "# Standardize column name to match SilentSignals\n",
    "noncoded_df = noncoded_df.rename(columns={\"text\": \"content\"})\n",
    "# Filter the dataframe using query conditions\n",
    "filtered_df = noncoded_df[\n",
    "    (noncoded_df[\"toxicity\"] == 0) &\n",
    "    (noncoded_df[\"severe_toxicity\"] == 0) &\n",
    "    (noncoded_df[\"obscene\"] == 0) &\n",
    "    (noncoded_df[\"threat\"] == 0) &\n",
    "    (noncoded_df[\"insult\"] == 0) &\n",
    "    (noncoded_df[\"identity_attack\"] == 0) &\n",
    "    (noncoded_df[\"sexual_explicit\"] == 0)\n",
    "]\n",
    "\n",
    "# Select only the 'content' column and add a 'label' column\n",
    "filtered_df = filtered_df[[\"content\"]].copy()\n",
    "filtered_df = filtered_df.head(813)  # Apply LIMIT 813\n",
    "filtered_df[\"label\"] = 0"
   ]
  },
  {
   "cell_type": "code",
   "execution_count": 7,
   "id": "b301b94c",
   "metadata": {},
   "outputs": [],
   "source": [
    "# combine filtered_df and silent_test_df\n",
    "combined_df = pd.concat([filtered_df, silent_test_df], ignore_index=True)"
   ]
  },
  {
   "cell_type": "code",
   "execution_count": 8,
   "id": "18aa4888",
   "metadata": {},
   "outputs": [
    {
     "name": "stdout",
     "output_type": "stream",
     "text": [
      "Generating embeddings...\n"
     ]
    },
    {
     "data": {
      "application/vnd.jupyter.widget-view+json": {
       "model_id": "9448cb6f37a64ae7bf95b958cc31e082",
       "version_major": 2,
       "version_minor": 0
      },
      "text/plain": [
       "Batches:   0%|          | 0/407 [00:00<?, ?it/s]"
      ]
     },
     "metadata": {},
     "output_type": "display_data"
    }
   ],
   "source": [
    "# -------------------------------\n",
    "# Sentence Embeddings\n",
    "# -------------------------------\n",
    "print(\"Generating embeddings...\")\n",
    "model = SentenceTransformer(EMBEDDING_MODEL_NAME)\n",
    "texts = train_df['content'].tolist()  # Adjust column name if needed\n",
    "embeddings = model.encode(texts, batch_size=32, show_progress_bar=True, convert_to_tensor=True)"
   ]
  },
  {
   "cell_type": "markdown",
   "id": "9b6da9e0",
   "metadata": {},
   "source": [
    "# Create vector store to store embeddings"
   ]
  },
  {
   "cell_type": "code",
   "execution_count": 9,
   "id": "435f7192",
   "metadata": {},
   "outputs": [
    {
     "name": "stdout",
     "output_type": "stream",
     "text": [
      "Creating ChromaDB vector store...\n",
      "Collection deletion failed or doesn't exist yet: Collection [earshot] does not exists\n",
      "Stored 13006 vectors in ChromaDB.\n"
     ]
    }
   ],
   "source": [
    "print(\"Creating ChromaDB vector store...\")\n",
    "chroma_client = chromadb.Client(Settings(persist_directory=VECTOR_DB_PATH))\n",
    "# reset the collection if it exists\n",
    "try:\n",
    "    chroma_client.delete_collection(\"earshot\")\n",
    "except Exception as e:\n",
    "    print(\"Collection deletion failed or doesn't exist yet:\", e)\n",
    "collection = chroma_client.create_collection(\"earshot\")\n",
    "\n",
    "# Add embeddings to vector DB (skip numpy by converting to list via torch.tolist())\n",
    "for i, (text, emb) in enumerate(zip(texts, embeddings)):\n",
    "    collection.add(\n",
    "        documents=[text],\n",
    "        embeddings=[emb.cpu().tolist()],\n",
    "        ids=[f\"doc_{i}\"]\n",
    "    )\n",
    "\n",
    "print(f\"Stored {len(texts)} vectors in ChromaDB.\")"
   ]
  },
  {
   "cell_type": "markdown",
   "id": "be8adeae",
   "metadata": {},
   "source": [
    "## Nearest Neighbors check to make sure embedding worked"
   ]
  },
  {
   "cell_type": "code",
   "execution_count": 10,
   "id": "fa9a1d44",
   "metadata": {},
   "outputs": [
    {
     "name": "stdout",
     "output_type": "stream",
     "text": [
      "Nearest Neighbors for: Dianna Anderson has written (before drinking the gender woo woo) some very insightful things about Christianity, patriarchy, religious abuse, misogyny etc. Unfortunately she got sooo close and then veered off into...whatever this is. Just because you were abused and you hate being a woman doesn't mean you aren't one.\n",
      " - Dianna Anderson has written (before drinking the gender woo woo) some very insightful things about Christianity, patriarchy, religious abuse, misogyny etc. Unfortunately she got sooo close and then veered off into...whatever this is. Just because you were abused and you hate being a woman doesn't mean you aren't one.\n",
      " - This aligns closely with my analysis of the rise of gender identity ideology. Society is constantly concocting alternative routes around confronting trauma, individually, and collectively. A must read on this phenomenon is Judith Lewis Herman, *Trauma and Recovery*.\n",
      " - Dig around, do more research and you will see how absolutely horrible gender ideology is for women and girls.\n",
      " - The erasure of women is real, the medical experimental abuse of children is real, and the transgender tactics of forcing societal acceptance very similar to an abuser's.\n",
      " - I’m sorry horrible things happened to you. I’m sorry you have gender dysphoria. I’m sorry you have turned to addiction and body mutilation to cope with your problems. Can you go away now please? We also don’t exist to validate you. Edit: The only thing I’m telling you do do is go away. This is a space for gender critical radical feminists.\n"
     ]
    }
   ],
   "source": [
    "# -------------------------------\n",
    "# Nearest Neighbor Retrieval\n",
    "# -------------------------------\n",
    "def get_neighbors(query_text, k=5):\n",
    "    query_emb = model.encode([query_text], convert_to_tensor=True)[0].cpu().tolist()\n",
    "    results = collection.query(query_embeddings=[query_emb], n_results=k)\n",
    "    return results\n",
    "\n",
    "# Example usage\n",
    "example_query = texts[11]\n",
    "neighbors = get_neighbors(example_query)\n",
    "print(\"Nearest Neighbors for:\", example_query)\n",
    "for doc in neighbors['documents'][0]:\n",
    "    print(\" -\", doc)"
   ]
  },
  {
   "cell_type": "markdown",
   "id": "7e95c389",
   "metadata": {},
   "source": [
    "# Loading my mixed 100 row dataset, 50/50 split between dogwhistles and non-dogwhistles"
   ]
  },
  {
   "cell_type": "code",
   "execution_count": 11,
   "id": "1dd56a47",
   "metadata": {},
   "outputs": [],
   "source": [
    "# load silent signal detection\n",
    "mixed_dataset = load_dataset(\"SALT-NLP/silent_signals_detection\", split=\"train\")\n",
    "mixed_df = pd.DataFrame(mixed_dataset)\n",
    "mixed_df['label'] = mixed_df['label'].map({\"coded\":1,\"non-coded\":0})"
   ]
  },
  {
   "cell_type": "code",
   "execution_count": 12,
   "id": "3c123154",
   "metadata": {},
   "outputs": [
    {
     "data": {
      "application/vnd.microsoft.datawrangler.viewer.v0+json": {
       "columns": [
        {
         "name": "index",
         "rawType": "int64",
         "type": "integer"
        },
        {
         "name": "idx",
         "rawType": "int64",
         "type": "integer"
        },
        {
         "name": "dog_whistle",
         "rawType": "object",
         "type": "string"
        },
        {
         "name": "dog_whistle_root",
         "rawType": "object",
         "type": "unknown"
        },
        {
         "name": "ingroup",
         "rawType": "object",
         "type": "unknown"
        },
        {
         "name": "definition",
         "rawType": "object",
         "type": "unknown"
        },
        {
         "name": "content",
         "rawType": "object",
         "type": "string"
        },
        {
         "name": "label",
         "rawType": "int64",
         "type": "integer"
        }
       ],
       "conversionMethod": "pd.DataFrame",
       "ref": "b8f22165-2211-4eb9-85ec-4a4aa884db7c",
       "rows": [
        [
         "0",
         "0",
         "YWNBAW",
         "YWNBAW",
         "transphobic",
         "You Will Never Be A Woman (YWNBAW) is an alt-right insult to anyone who opposes their views on Trump and implies that a sizeable part of social progressives are transgender women. The insult derives from a 4chan copypasta that became popular on other right wing platforms.[455] The copypasta argues that trans women are not women in a biological sense because they have no eggs and no womb and that they can never give birth, while also arguing that any compliments given to them are fake and humiliating in order to imply that trans women will mutilate their body to fish for likes.",
         "\"Might I suggest you reach out to YWNBAW? Very likely to help shed light on the situation.\"",
         "1"
        ],
        [
         "1",
         "1",
         "109",
         "109",
         "antisemitic",
         "109 stands for the 109 locations that Jews were alleged to have to have been expelled from, and of course implies it was their own fault every time. Nazis usually conflate these locations with 'countries'. One may also see a 110, meaning that Jews need to be kicked out from another country.",
         "\"\"Wow 109 countries,  and they consider us as cattle?\"\"That's right Sneako, just wait till you hear about the blood libel and black cube of saturn\"\"",
         "1"
        ],
        [
         "2",
         "2",
         "alarmist",
         "alarmist",
         "climate change denier",
         "\"Alarmist\" is a common global warming denialist dog-whistle to refer to anyone who wants to implement policies that aim to reduce the amount of CO2 we put into the atmosphere. Referring to oneself as being a \"climate realist\" also qualifies. While true alarmism does indeed exist, it is extremely rare and has virtually no political influence currently.",
         "\"A mountain of evidence shows climate alarmists never learn from their mistakes, be they clear misstatements of facts or repeatedly failed prognostications.Why should they? The press lets climate alarmists get away with making more false claims than any other group on any other topic, including the efficacy of the COVID vaccines in keeping people from catching the disease or requiring hospitalization. Climate alarmists have nothing to fear from so-called fact checkers in corporate or social media, because the “fact checkers” are either true believers themselves or fellow beneficiaries of the climate alarm gravy train.\"",
         "1"
        ],
        [
         "3",
         "3",
         "Aiden",
         "Aiden",
         "transphobic",
         "Derogatory term for a transgender man, based on the stereotype that \"Aiden\" (or similar sounding names e.g. Hayden, Jayden) is a popular choice of name among young trans men. This is sometimes joked about by trans people among themselves, but has been appropriated by TERFs.",
         "\"TRAs always need to get the last word in and need to use these dumb half-baked memes  😂I have better things to spend my time on lmao keep whining Aiden\"",
         "1"
        ],
        [
         "4",
         "4",
         "Judeo-Christian",
         "Judeo-Christian",
         "Islamophobic",
         "It might seem neighbourly, even pluralistic, to include Judaism in a declaration of purported Western values. But in reality this isn’t how the term has functioned, either historically or more recently. Instead, the phrase is used to exclude rather than include. Despite implying that Jews are part of this resurrection of Judeo-Christian values, Trump in no way intends a campaign to Make Hanukkah Great Again. His “Judeo-Christian values” are about protecting Christmas, and about protecting Christians – at the exclusion of others. “Judeo-Christian” is now most often used to draw a line between imagined Christian values and a perceived (but false) threat of Muslim immigration.Time and again, when Farage and Trump use the term, what they really imply is an “us-versus-them” division between the West and Islam. This is not about the inclusion of Jews in the values of these nations, then, but about the xenophobic exclusion of an “other”. Invoked in anti-immigration rhetoric with the goal of excluding Muslims, this phrase is actually used to scaffold a false narrative about Christians being persecuted, threatened or besieged, which gives motivation for the protection of “Judeo-Christian values”. In fact, Christians are not persecuted in the countries where Farage and Trump make their homes.",
         "\"We are stopping cold the attacks on Judeo-Christian values...You know, we're getting near that beautiful Christmas season that people don't talk about anymore. They don't use the word \"Christmas\" because it's not politically correct. You go to department stores, and they'll say, \"Happy New Year,\" and they'll say other things. And it will be red, they'll have it painted, but they don't say it. Well, guess what? We're saying \"Merry Christmas\" again.\"",
         "1"
        ],
        [
         "5",
         "5",
         "intact",
         "intact",
         "transphobic",
         "What they mean is have you had bottom surgery and if you haven’t, then you can’t possibly be trans and you must be faking it to gain access to vulnerable people. Even if you’ve had bottom surgery, they still won’t accept you as a man or a woman.An important side note here: having surgery or not doesn’t make you any less trans or nonbinary.",
         "\"Interesting seeing talk online about how extreme my position is from people defending a fully intact male taking women's swim medals and an aggressive man with a beard speaking about 'womanhood' at a herstory festival. I'm not sure I'm the one who's been radicalised.\"",
         "1"
        ],
        [
         "6",
         "6",
         "Kek",
         "Kek",
         "white supremacist",
         "The term \"Kek\" originates from World of Warcraft, where if someone from the Horde side typed \"lol\" in /say, Alliance players would instead see \"kek\". This is a further reference by Blizzard to the Korean language word for 'laugh' (or more literally, 'ha ha ha'), kekeke (ㅋㅋㅋ), commonly seen in Starcraft. Used the same way by 4chan, later leading to the discovery of an Egyptian deity by the same name who happened to be a frog, thus linking this to the Pepe meme. The superlative is \"topkek\" or \"top kek,\" which is also reference to a Turkish snack food. Kekistan is a fictional ethnicity that lets alt-righters use a Nazi flag as a \"meme\". It replaces the Nazi symbol with \"K\"s, and the Iron Cross with 4chan's logo. Kekistan was popularized in part by Sargon of Akkad.",
         "\"Kek\"",
         "1"
        ],
        [
         "7",
         "7",
         "groomers",
         "groomers",
         "anti-LGBTQ",
         "it’s a dog whistle to the party’s most extreme, conspiracy-minded base. The foundation of the QAnon conspiracy theory is that there is a mass, secret, underground ring of Satanic pedophiles whose members consist of Democratic leaders and Hollywood elites. Painting anyone who opposes Florida’s law (i.e., mainly Democrats) as being pro-grooming fits neatly into that narrative and winks at QAnon adherents without requiring politicians on the right to actually endorse the outlandish theory.But this rhetoric also harkens back to age-old attacks on the LGBTQ community. Casting LGBTQ people as child predators and their very existence as something inherently sexual was a tactic used by anti-LGBTQ activists since the 1970s in their efforts to stifle or roll back LGBTQ legal protections, according to Marie-Amélie George, a law professor at Wake Forest University who specializes in LGBTQ rights. George said that for a long time, many people believed that being gay was the result of child sexual abuse.",
         "\"I have bad news for all the groomers and enablers—By the time I am done reporting on these “all ages” and “family friendly” drag shows in TX, they’re going to be illegal, and there is nothing you can do about it.\"",
         "1"
        ],
        [
         "8",
         "8",
         "anointed",
         "anointed",
         "religious",
         "\"Anointed\" is a dog whistle term for speaking in tongues, name it and claim it, faith healing, and other fringe practices, intended to be understood by Pentecostals but not by the general public. It is a way of saying \"we believe in and practice the Pentecostal beliefs\" without openly admitting it.",
         "\"I have always believed that this anointed land was set apart in an uncommon way, that a divine plan placed this great continent here between the oceans to be found by people from every corner of the Earth who had a special love of faith and freedom. Our pioneers asked that He would work His will in our daily lives so America would be a land of morality, fairness, and freedom.\"",
         "1"
        ],
        [
         "9",
         "9",
         "windmill",
         "windmill",
         "white supremacist",
         "A windmill or sometimes \"windmill of friendship\" is a (usually ASCII or copypasted) swastika, typically as used on Reddit or gaming platforms such as Twitch or Steam",
         "\"What can I say, old german guys just wanna rule the world with their Windmill of friendship\"",
         "1"
        ],
        [
         "10",
         "10",
         "autogynephilia",
         "autogynephilia",
         "transphobic",
         "A pseudoscientific hypothesis that transgender women who aren't exclusively attracted to men are transitioning purely as a result of a fetish for being viewed as females. This theory, endorsed by J. Michael Bailey and most prevalent between the 1980s and early 2000s, has been recycled by TERFs to further their blatant transmisogyny.",
         "\"Trans rights activists have claimed that natal women commonly experience sexual excitement from the simple thought of being women as a way of “normalizing” this phenomenon in AGP men. Research shows autogynephilia is actually rare/nonexistent in women\"",
         "1"
        ],
        [
         "11",
         "11",
         "clownfish",
         "clownfish",
         "transphobic",
         "Clownfish are sequential hermaphrodites. This means that male-to-female sex changes are a natural part of their reproductive biology. Clownfish schools are led by a female. When this female dies, the dominant male changes sex and takes her place, becoming a fertile (i.e. egg-producing) female. TERF references to clownfish are intended to mock and otherize trans women, suggesting that the idea humans can change sex is absurd because humans are not fish. This also meshes with the Clown World dogwhistle.",
         "\"Things that, bizarrely, have to be said in 2022, thanks to Trans, Inc.:- Human beings aren't clownfish.- Lesbians don't like penises.- Men can't get pregnant.- Only women have a cervix.- It's wrong to mutilate children.Feel free to add to the list in replies.\"",
         "1"
        ],
        [
         "12",
         "12",
         "Durden",
         "Durden",
         "transphobic",
         "[Operation Google] transgender person",
         "\"America is in the throes of a cultural and political war over gender ideology, featuring high-profile conflicts over everything from school curricula to athletics to pronouns.  Durden\"",
         "1"
        ],
        [
         "13",
         "13",
         "nibba",
         "nibba",
         "racist",
         "Nibba is a euphemism for \"nigga\", which in turn is a euphemism for \"nigger\" because even \"nigga\" will get you in trouble on some social media. Some Nazis will even call each other nibba",
         "\"This isnt another \"dindu nuffin bang bang\" situation,if the media is reporting an explosive device was found, tell me the last time you heard a story where a hood nibba attempted to blow something up lmao\"",
         "1"
        ],
        [
         "14",
         "14",
         "Khazars",
         "Khazars",
         "antisemitic",
         "In the 6th century CE, the Khazars—an obscure warlike tribe in Turkistan [present day Kazakhstan]—fought for land that was ultimately overtaken by Southern Russia and Ukraine. Despite the decline in population and territorial defeat, the Khazars continued to be mentioned throughout history— especially as one of the first groups to adopt Judaism. By the 8th or 9th century, antisemitic conspiracy theories began forming around the Khazars’ reported conversion to Judaism. This spurred antisemitic beliefs that they were building a secret empire which sought widespread control through financial gains. Given that the Khazars moved into and settled in Eastern Europe, antisemites push the conspiracy that Ashkenzai Jews—Jews descending from Eastern Europe—are not “real Jews” and are working to infiltrate other nations on their quest for world domination (see “not the real Jews”). The Khazar trope is also used to undermine the Jewish connection to Israel, and therefore Israel’s right to exist, because it falsely says Jews originated from the northern Caucasus region and were part of the Turkic empire—and not the Land of Israel.",
         "\"JewsHebrewsIsraelitesAshkenazi 👀Khazars 👀👀You get “in trouble” for mentioning the last two. Well….. NOT ANYMORE! Time to study! Mask off! - Uncover every layer!Can you believe most of our leaders were called “Antisemitic” for pointing this out? 🙄 lol…. Pathetic\"",
         "1"
        ],
        [
         "15",
         "15",
         "kosherist",
         "kosherist",
         "antisemitic",
         "Kosherist is another term for Jews. It is used to try to evade keyword triggers. It is not strictly an evasion, as it has been used in ads for Kosher products",
         "\"This entire thread is a good goy joke. Azov and Right Sector are the Kosherist Kippa wearing joke \"Nazis\" who work for people named Nudelman and Kagan the world has ever seen.Russia will mop them up when the time is right.\"",
         "1"
        ],
        [
         "16",
         "16",
         "XX",
         "XX",
         "transphobic",
         "Represents the female chromosomes. TERFs will put the female chromosomes (XX) in their social media profiles to denote that they exclude trans and nonbinary people who identify as female or femme.",
         "\"I am a feminist. I know what a woman is. I fight for the rights of women and girls. Do you? #resistance #letwomenspeak #JKRowling #xx [Attached photo of person wearing cap that says \"XX\"]\"",
         "1"
        ],
        [
         "17",
         "17",
         "globalism",
         "globalism",
         "antisemitic",
         "A noteworthy anti-Semitic theme in 2017 was the use of the term “globalist” as an anti-Semitic slur. Although the term is not inherently anti-Semitic, “globalist” is often used as a pejorative term for people whose interests in international commerce or finance ostensibly make them disloyal to the country in which they live, or who are willing to undermine the financial security of their neighbors in order to benefit transnational interests. Because of the long history of anti-Semitic associations of Jews with money and commerce, and allegations that Jews place their transnational ethnic affiliations ahead of the interests of their non-Jewish neighbors, these pejorative subtexts quickly take on anti-Semitic connotations when the term is applied to individual Jews, groups of Jews, or places where Jews are known to live (i.e. “New York globalists”). Anti-Semites frequently use the term “Globalist” as a code word for Jews.",
         "\"Domestic manufacturing once supported millions of American men with good wages, who in turn started and supported families. Now that industry lies all but dead on the altar of globalism. \"",
         "1"
        ],
        [
         "18",
         "18",
         "womanface",
         "womanface",
         "transphobic",
         "An attempt to equate the existence of trans women to blackface; claiming that they treat womanhood as a \"costume\" while ignoring the oppression of \"actual women\".",
         "\"Dear @eddieizzard, it's perfectly fine to be a transvestite who likes to wear women's clothing, in fact we all thought you brave for doing so publicly and applauded you for it! What is NOT all right is claiming that this makes you an actual woman. It doesn't. It's #WomanFace\"",
         "1"
        ],
        [
         "19",
         "19",
         "based",
         "based",
         "white supremacist",
         "Based is an euphemism for someone or something that is considered to be authoritative, \"unbiased\", and redpilled. The alt-right generally describes anyone who promotes racism as \"based\". The term gained mainstream usage through Gamergate's descriptions of pro-Gamergate YouTubers as \"based\", although it was originally used by American rapper Lil B the \"BasedGod\" in a different context; he defined the term that denotes a lifestyle of positivity and tolerance, the complete opposite to the alt-right's appropriation of the phrase. Alt-righters often pair the term with the adjective cucked: something or someone that doesn't accept alt-right views.",
         "\"Steve 'Based' King Asks MSNBC: What Have Minorities Contributed To Civilization?\"",
         "1"
        ],
        [
         "20",
         "20",
         "jogger",
         "jogger",
         "racist",
         "Jogger started being used as a synonym for 'nigger' following the shooting of an unarmed African American jogger, Ahmaud Arbery, on February 23, 2020, allegedly by two white men, Travis McMichael and his father Gregory McMichael. 4chan attempted to appropriate the term and the action itself as a racist slur in May 2020 by referring to black people as \"joggers\" in an offensive manner.",
         "\"Many say the looting is just Joggers wanting free stuff.I think there's an explicit, revolutionary, anti-White nature.Essentially they're saying, \"what's yours, White man, is now mine. Your rules? We won't follow.\"The looting is political. Just has nothing to do w/ FIoyd.\"",
         "1"
        ],
        [
         "21",
         "21",
         "shoah",
         "shoah",
         "antisemitic",
         "Shoah (\"catastrophe\" or \"calamity\") is the Hebrew term used since the 1940s to describe the Holocaust. Alt-right website The Right Stuff has a podcast called The Daily Shoah, its name being both a play on The Daily Show and a deliberately offensive reference to the Holocaust. In alt-right circles, shoahed or shoah'd essentially means \"shut down\", and usually refers to the suspension of an alt-righter's social media account.",
         "\"This flame 🔥is a tribute to all the #AltRight accounts that #Twitter has ruthlessly shoah'd in its war against free speech.\"",
         "1"
        ],
        [
         "22",
         "22",
         "Rothschilds",
         "Rothschilds",
         "antisemitic",
         "A longstanding anti-Semitic conspiracy theory posits that a cabal of Jews led by members of the Rothschild banking family have been manipulating currency and exerting influence on regional and national events since the early 19th century for the purposes of personal enrichment and/or world domination. Anti-Semitic conspiracy theorists claim that the Rothschilds interfered with the American Revolution, financed Nazism and/or the Bolshevik Revolution, perpetrated the 9/11 attacks, and created the state of Israel. They also allege that the Rothschilds are some of the chief architects of an impending “New World Order” which will abolish nationalities and enslave humanity.",
         "\"As there are now over 70 people confirmed dead and over 1,000 missing, the fires in CA are a horrific tragedy. I’m praying for all involved! I’m posting this in speculation because there are too many coincidences to ignore… I find it very interesting that Roger Kimmel on the board of directors of PG&E is also Vice Chairman of Rothschild Inc, an international investment banking firm. I also find interesting the long history of financial contributions that PG&E has made to Jerry Brown over the years and millions spent in lobbying…Space solar generators collect the suns energy and then beam it back to Earth to a transmitter to convert to electricity. The idea is clean energy to replace coal and oil. If they are beaming the suns energy back to Earth, I’m sure they wouldn’t ever miss a transmitter receiving station right??!! I mean mistakes are never made when anything new is invented. What would that look like anyway? A laser beam or light beam coming down to Earth I guess. Could that cause a fire? Hmmm, I don’t know. I hope not!  That wouldn’t look so good for PG&E, Rothschild Inc, Solaren, Or Jerry Brown….Seems like there’s a lot of connected people in this crowd. And with these space solar generators, I really hope they have very good aim beaming the suns power down to Earth…\"",
         "1"
        ],
        [
         "23",
         "23",
         "alt-right",
         "alt-right",
         "white supremacist",
         "Enough already. Much of the contemporary conversation has adopted this new epitaph for the extreme right. But this is merely calling an old threat a new, slightly distracting name – and therefore possibly distorting or diluting the impact. Words matter. And so does clarity. As much as people are saying \"call it by its name\" about the controversial actions by extremists, we should keep this conversation clear and call these actors by their name. Avoid using \"alt-right\" and eliminate any confusion by calling them \"white supremacists\" or \"racists\" or \"neo-Nazis\" or \"extreme right.",
         "\"Mike Enoch just got banned from Twitter after getting retweeted by@AnnCoulter. I got wiped from Facebook this weekend.Timing is very important.The Alt-Right is being recognized as THE grounded, authentic anti-war movement in the U.S.For our enemies, that's unacceptable.\"",
         "1"
        ],
        [
         "24",
         "24",
         "bop",
         "bop",
         "white supremacist",
         "Bop was popularized as a cutesy term on the Fren World subreddit, meaning to hit, but quickly became used in the barely-covert alt-right Fren memes as a euphemism for 'attack' or 'kill', particularly in the phrase bop the non-frens. When Fren subs began to be banned by Reddit, \"bopped\" also became a common term to describe a post, user, or subreddit being banned.",
         "\"Calling all frens! we have to bop the non-frens and clowns! they are invadin our home:(\"",
         "1"
        ],
        [
         "25",
         "25",
         "womyn",
         "womyn",
         "transphobic",
         "Alternative spellings of \"woman\"/\"women\" used to avoid ending the word with \"-man\". Historically, these terms have been used in wider feminist discourse. However, they are now used mostly by TERFs (since the 2010s). The term \"wombyn\" deliberately puts more emphasis on the uterus (primary organ involved in pregnancy); it is purposefully trans-exclusionary and used by TERFs since trans women are unable to become pregnant even post-transition.",
         "\"Now that we’re talking about abortion, suddenly it’s about women’s rights… not womxn’s rights… suddenly it’s not about birthing persons… suddenly men can’t get pregnant. Suddenly it’s about men vs. women. What happened to all the female larping and appropriating of womanhood?\"",
         "1"
        ],
        [
         "26",
         "26",
         "genderfree",
         "genderfree",
         "transphobic",
         "A euphemism that TERFs have started using to describe themselves, implying that gender is a set of stereotypes, should not matter, and the only thing that matters is sex assigned at birth.",
         "\"I am also joining the hordes coming out as #genderfree. For too long we have been oppressed with society’s sexist norms and values. Don’t you dare question my identity or my existence.\"",
         "1"
        ],
        [
         "27",
         "27",
         "TRAs",
         "TRAs",
         "transphobic",
         "A person who supports the transgender rights movement. TERFs pretty much use this term indiscriminately. In TERF logic, one is a \"TRA\" whether one occasionally expresses support for trans rights or whether one has devoted one's life and/or social media presence to the cause. The acronym was deliberately chosen to sound like \"MRA\" in an attempt to draw a false equivalence between trans-rights activism and the genuinely misogynistic and anti-feminist men's rights movement.",
         "\"Every day more women are joining the fight for women’s rights, a reality it seems the TRAs never really planned for.But women of every political affiliation, religion, race & culture care about our own rights & every single one of us deserves them.Here’s to winning in 2023 💗\"",
         "1"
        ],
        [
         "28",
         "28",
         "#Milk",
         "#Milk",
         "white supremacist",
         "For members of the far-right, dairy milk represents strength of body and ties into their ideas of masculinity. Conversely, soy and other forms of milk have come to symbolize weakness and effeminacy. In our analysis, we found that milk has been used as a thinly veiled allegory for racial purity. Several prominant figures from the white supremacist movement including Richard Spencer added milk bottle emojis to their Twitter profiles. The hashtags #MilkTwitter embraced and celebrated traditional gender norms and white-dominated patriarchy, while making fun of multiculturalism and feminism. Scholars such as Freeman (2013) contend that the contemporary white supremacist movement appropriated the long association of milk with the intellect. She points out that since the consumption of liberal amounts of milk and its products are associated with having a scientific mind and excelling in other intellectual activities, white supremacists appropriated it to convey their superiority among the racial groups.",
         "\"I'm very proud of my mutant power of digesting lactose well into adulthood thank you very much. #MilkTwitter #DownWithTheVeganAgenda 🥛\"",
         "1"
        ],
        [
         "29",
         "29",
         "octopus",
         "octopus",
         "antisemitic",
         "The Octopus is a common antisemitic image found in anti-Jewish images and cartoons, representing the antisemitic canard of Jewish control. In 1903, the antisemitic forgery, The Protocols of the Elders of Zion, alleged, among many other falsities, that Jewish leaders were conspiring to control the world, including global politics, the world economy, and the media. The image of an octopus, with its tentacles wrapped around the world, or penetrating the globe, is an antisemitic representation of this canard.",
         "\"Like an octopus. [Commend added to shared link for article headlined \"Flashback: George Soros Financed Hillary Clinton's Recount Lawyer Marc Elias\"] \"",
         "1"
        ],
        [
         "30",
         "30",
         "23/16",
         "23/16",
         "white supremacist",
         "For WP=White Power, based on letter position in the alphabet, similar to 88=HH. Sometimes also 16/23, which as well as being a transparent disguise, also relates to \"peckerwood\", formerly black slang for whites now used as self-identification by white supremacists",
         "\"🤣🤣🤣hoe is right get ready for them too rule the 25th amendment soon though they're trying to always pull the wool over our eyes but we see the real truth he's liberaltards  Oi Oi 1488 & 2316\"",
         "1"
        ],
        [
         "31",
         "31",
         "COIN",
         "COIN",
         "transphobic",
         "Stands for \"Co-Opting Intersex Narratives.\" This term was initially used in intersex communities to criticise others who falsely equate being trans with being intersex or claim to be intersex when they have not been diagnosed. Subsequently, TERFs hijacked it and now use it to accuse all trans people of being liars and appropriating intersex people's struggles.",
         "\"This is getting perilously close to \"COINing\", aka \"Co-opting Intersex Narratives\", aka trying to use the health issues of people with Disorders of Sexual Development to bash women-who-stand-up-for-themselves over the head.\"",
         "1"
        ],
        [
         "32",
         "32",
         "steroids",
         "steroids",
         "transphobic",
         "A term used for hormone therapy taken by trans people (since steroids feminize a male body and vice versa), to make it sound like trans people are drug abusers and / or cheating in sports.",
         "\"TRANSGENDER BOYS DOMINATE HIGH SCHOOL GIRLS AT STATE TRACK MEET...In professional sports, performance enhancing drugs are illegal. Lets be serious, a transgender boy is like a girl on steroids and should be banned...  Don't you think?\"",
         "1"
        ],
        [
         "33",
         "33",
         "fren",
         "fren",
         "white supremacist",
         "Fren is a corruption of the word \"friend\". It is a dog whistle used by a subsection of the alt-right, commonly found on the r/FrenWorld subreddit on Reddit. The idea is to talk like a small child or intellectually disabled person whilst still talking about general alt-right bigotry, the pattern of which emerged with the aforementioned Apu Apustaja meme.Closely connected to the honkler/Clown World memes; the Honkler and other Pepes can be seen in many of their memes. After the CringeAnarchy subreddit was shut down when the moderators refused to delete posts calling for genocide, many users migrated to the r/FrenWorld,which was itself shut down in June 2019. This word is also used by fans of the band Twenty One Pilots, so check context.",
         "\"I was trying to take a Twitter break but how can I when Nick Fuentes is now best frens with the greatest artist of all time Ye (AKA Kanye West)??? This is the biggest groyper W times 6 million‼️\"",
         "1"
        ],
        [
         "34",
         "34",
         "Islamists",
         "Islamists",
         "Islamophobic",
         "[see radical Islam]",
         "\"The radical islamists have 1.3 or more billion muslims to work with. Now they aren't all supporters. Daniel (inaudible) says 10-15% of them, but that is a huge population to draw from. They are all over the world. They're certainly in the United States. They're recruiting fighters for ISIS right out of Minneapolis out of the Somali enclave. And that's going on in other parts of the country too…So they have a network that they flow in. And it isn't that all muslims are a supporter of ISIS but the network that flows through the mosques is certainly the communications centers. We ought to be looking at this dot to dot. And we ought to have people in those mosques watching to see what's going on.\"",
         "1"
        ],
        [
         "35",
         "35",
         "coincidence",
         "coincidence",
         "antisemitic",
         "Take the use of the word \"coincidence\" as a dog whistle. In the recent kerfuffle over the \"Coincidence Detector\" app, many news readers learned that internet anti-Semites use \"coincidence\" to mean, roughly, a Jewish conspiracy. Until the story broke, this subculture could go around calling people and events \"coincidences\" with impunity – pointing to an anti-Trump article by a Jewish author, for example — maybe confusing readers who didn’t share their views, but not raising any hackles.",
         "\"Just a positively spectacular coincidence that@SECGov gives every broker-dealer a last call warning to shore their shit up for margin call mayhem 3 days before@GameStop earnings.#GME #NothingToSeeHere #Cohencidence\"",
         "1"
        ],
        [
         "36",
         "36",
         "magapede",
         "magapede",
         "white supremacist",
         "Magapede was used primarily on boards like 8chan /pol/. It refers to Trump supporters who do not subscribe to antisemitic or racist views. It is similar to cuckservative.",
         "\"Extremely MAGApede voice: “If Harvey Milk were alive today, he’d be a Trump supporter!”\"",
         "1"
        ],
        [
         "37",
         "37",
         "Reagan",
         "Reagan",
         "white supremacist",
         "[Operation Google] a conservative",
         "\"I hate the Skittle ideology of waging skittle-jihad on Reagans, A Leppos, Fishbuckets! The car salesmen love to choke on Skittles and Google\"",
         "1"
        ],
        [
         "38",
         "38",
         "Zioworld",
         "Zioworld",
         "antisemitic",
         "Zioworld is shorthand for the Zionist Occupation Government and the antisemitic interpretation of the one world government conspiracy.",
         "\"ZioWorld Bankers.Their days are numbered. Liars deceivers and thieves have the upper hand until they have shit on everyone . No hiding now.\"",
         "1"
        ],
        [
         "39",
         "39",
         "#GenderWooWoo",
         "#GenderWooWoo",
         "transphobic",
         "A reactionary term, which gained traction in mid-late 2020, that mocks the concept of gender as well as transgender people (who support gender)- but not trans-exclusionary pseudoscience and denial of scientific evidence that directly contradicts the classic transphobic narrative that, in the reactionaries' view, \"transgenders just want to escape biological [sic] reality\" (like brain similarities between trans women and cis women for example). Because apparently, promoting anti-scientific attitudes and conspiracy theories is only bad if trans people and their allies are (allegedly) doing it.",
         "\"So it’s #GenderWooWoo day and I’d like to share Kylie who pretended to be pregnant then pretended to have a stillbirth. Then tried to raise money for a doll to help him grieve. He was in a pg & birth group where women supported him & some were thrown out for telling the truth.\"",
         "1"
        ],
        [
         "40",
         "40",
         "thug",
         "thug",
         "racist",
         "By its technical definition, \"thug\" is supposed to refer to a violent person or a criminal. But over time, it has been used so often to refer to black people that it began to carry its own connotation — the racist idea that black people are criminals or violent.Take, for instance, the Baltimore protests. Were all the protesters in Baltimore, who were demonstrating against Freddie Gray's death in the hands of police, rioting and looting? No, but they were broadly labeled as such, even by the mayor and the president.In comparison, one does not see the same kind of labeling with white rioters, which media outlets like CNN have labeled as, for example, \"rowdy\" in past instances.As these kinds of contrasts present themselves in media, it becomes clear that the word \"thug\" is used to describe not merely criminal or violent behavior, but behavior from black men in particular.",
         "\"That is not a protest.  That is not a statement.  It’s people -- a handful of people taking advantage of a situation for their own purposes, and they need to be treated as criminals...My understanding is, is you’ve got some of the same organizers now going back into these communities to try to clean up in the aftermath of a handful of criminals and thugs who tore up the place.  What they were doing, what those community leaders and clergy and others were doing, that is a statement.  That’s the kind of organizing that needs to take place if we’re going to tackle this problem.\"",
         "1"
        ],
        [
         "41",
         "41",
         "majority-minority",
         "majority-minority",
         "racist",
         "This is certainly less veiled than many of the extreme right's verbiage, as it speaks to the demographic shift that America is projected to see in the next century, as Caucasian populations decline in proportion. But it's the extent that this is a threat to be actively fought and defended against that makes it a dog whistle and call to action.",
         "\"After 30 years of multiculturalism, the bonds of racial solidarity trump the bonds of national solidarity. Democrats have a very strong story to tell about what we owe the victims of racism and oppression. They do not have a strong story to tell about what we owe to other Americans, how we define our national borders and what binds us as Americans.Here’s the central challenge of our age: Over the next few decades, America will become a majority-minority country. It is hard to think of other major nations, down through history, that have managed such a transition and still held together.\"",
         "1"
        ],
        [
         "42",
         "42",
         "Illuminati",
         "Illuminati",
         "antisemitic",
         "Historically, the Order of the Illuminati refers to a secret society founded in Bavaria by Adam Weishaupt in the late 18th to advocate for secularism. However, during the interwar period of the 20th century, fascist propaganda claimed the Illuminati were a subversive element which served Jewish elites who were behind global capitalism and Soviet communism (see Jewish capitalist, Jewish communist) and were plotting to create a New World Order (see New World Order). This conspiratorial stance on the Illuminati, as well as its related conspiracy theory of Freemason-controlling Jews, are built on classic antisemitic themes, including the notion of Jewish control over the world, the meddling by Jews in global politics, and the Jewish plot for complete power over world governance (see control).",
         "\"This motion also sets aside, in a new parliamentary Session, the Standing Orders that apply in relation to the presentation of private Members’ Bills. The motion would allow a designated Member—or a few of the Illuminati who are taking the powers to themselves—to give notice of the presentation of this Bill on the first day of a new Session and then provide time for debate on this Bill on the second day of the new Session, interrupting the Queen’s Speech debate.\"",
         "1"
        ],
        [
         "43",
         "43",
         "Google",
         "Google",
         "racist",
         "[Operation Google] a black person",
         "\"Kill the Googles, gas the Skypes.\"",
         "1"
        ],
        [
         "44",
         "44",
         "Pajeet",
         "Pajeet",
         "anti-Asian",
         "Pajeet is a slur, often used by the alt-right to mock Indians. The word is derived from paaji (elder brother in Punjabi) + generic Punjabi name (Sanjeet, Manjeet etc). It is almost always used with \"jokes\" about how Indians defecate in the open, citing out-of-date UNICEF statistics. \"Designated shitting streets\" and \"Poo in loo\" are variants of this, the former mocking a supposedly Indian user \"defending\" cases of open defecation, the latter mocking a comically titled UNICEF video intended to raise awareness on the matter. The term is also used by the Indian alt-right.",
         "\"ah jeez the tiny dicked pajeet micro cap pump & dumper blocked me for making fun of his baby pips tutorialhow am i gonna know which micro cap turbo moons on 0.1 eth liquidity next ?\"",
         "1"
        ],
        [
         "45",
         "45",
         "Boogaloo",
         "Boogaloo",
         "white supremacist",
         "Boogaloo, boogalo, boog, and big igloo are code words for a rebellion against perceived tyranny, but often used as a cover for (Or misinterpreted as) a race war and the second American Civil War. The term boogaloo is derived from the 1984 movie Breakin' 2: Electric Boogaloo which is a commonly used phrase online to indicate any sort of sequel, particularly a poor quality one. Big igloo is a derivative synonym that refers to boogaloo  and probably to the \"big tent\" idea of inclusiveness (but for white people since igloos are white), but more likely as a way of evading attempts at moderation. In search of further homophone-ish phrases for their shitposting, this term further morphed into the phrase big luau online, as a reference to the unusually high number of \"Boogaloo Boys\" posting images wearing Hawaiian shirts. This led to a bizarre situation during lockdown protests regarding the 2019-20 COVID-19 outbreak, where many of the far-right extremists that attended showed their devotion to white supremacy by (in reference to the luau) dressing in Hawaiian shirts.",
         "\"New sponsor: Acre Gold. Monthly gold subscription service. So when the big igloo happens and cash is useless, I can still buy guns and ammo for my roaming bandit gang. (Link below)\"",
         "1"
        ],
        [
         "46",
         "46",
         "hygienic",
         "hygienic",
         "transphobic",
         "A dog whistle used by TERFs on Tumblr as a replacement for \"cis\", usually in coded phrases like \"hygienic female,\" \"extremely hygienic,\" etc. The implication is that cis women are cleaner than trans women, playing on the stereotype that men have worse personal hygiene than women. TERFs of course view trans women as men. It's also based on a pathologization of transfeminine bottom surgery. TERFs are morbidly fixated on a form of vaginoplasty sometimes used in gender-confirmation surgery. This procedure involves colon tissue grafts, as this allows the vagina to be self-lubricating. TERFs are convinced that all trans women undergo this procedure, and thus that their vaginas must be smelly and gross. It's also been noted that the term \"hygienic\" has an extremely problematic history.",
         "\"I’m sure the older people, especially Alzheimer’s sufferers, will be thrilled to have this technicolour berk waving his pronouns & proclivities in their faces.Rather know whether he has had the Covid vaccine tbh.Functional, not to mention hygienic, uniforms in work surely?\"",
         "1"
        ],
        [
         "47",
         "47",
         "cabal",
         "cabal",
         "antisemitic",
         "A small, powerful group that seeks to establish control.Jews have long been accused of being part of a secret group that controls the economic and political world order. The term cabal originates from the word kabbalah, the Jewish mystical interpretation of the Hebrew Bible. Often denoted as “Jewish cabal” on social media, it is a dog whistle for Jewish control.Several antisemitic publications and conspiracy theories capitalize on this imagery of a conniving cohort, such as the Protocols of the Elders of Zion or the New World Order theory which is based on the idea that Jews have formed a power structure in which they control the media, economy, and politics.",
         "\"I can no longer remain in today’s Democratic Party that is now under the complete control of an elitist cabal of warmongers driven by cowardly wokeness, who divide us by racializing every issue & stoke anti-white racism, actively work to undermine our God-given freedoms, are…\"",
         "1"
        ],
        [
         "48",
         "48",
         "gibsmedat",
         "gibsmedat",
         "racist",
         "Gibsmedat is a mocking term for African Americans, as an attempted imitation of someone speaking an archaic form of African American Vernacular English, that was used in Uncle Tom's Cabin (1852), saying, \"Give me that.\" Used to imply that black people are dependent on government largesse, have a strong sense of entitlement, and/or are inclined to robbery and theft. Sometimes government benefits are derivatively referred to as gibs.",
         "\"Das Kapital in a Nutshell. [Following text superimposed on image of Karl Marx] \"Gib me dat for free -Hungry Santa\"\"",
         "1"
        ],
        [
         "49",
         "49",
         "identitarianism",
         "identitarianism",
         "white supremacist",
         "Identitarianism is a synonym for Nazism that sounds less Nazi-like. From the main Wikipedia page for \"identitarianism\":The Identitarian movement or Identitarianism is a pan-European nationalist, far-right political ideology asserting the right of European ethnic groups and white peoples to Western culture and territories claimed to belong exclusively to them. Originating in France as Les Identitaires (\"The Identitarians\"), with its youth wing Generation Identity, the movement expanded to other European countries during the early 21st century. Building on ontological ideas of the German Conservative Revolution, its ideology was formulated from the 1960s onward by essayists such as Alain de Benoist, Dominique Venner, Guillaume Faye and Renaud Camus, who are considered the main ideological sources of the movement.Identitarians promote concepts such as pan-European nationalism, localism, ethnopluralism, remigration, or the Great Replacement, and they are generally opposed to globalisation, multiculturalism, Islamization and extra-European immigration. Influenced by New Right metapolitics, they do not seek direct electoral results, but rather to provoke long-term social transformations and eventually achieve cultural hegemony and popular adhesion to their ideas.",
         "\"The reaction to my latest video is baffling. There are apparently hundreds of MAGApedes who have been following me for years who have only just worked out I am an identitarian.\"",
         "1"
        ]
       ],
       "shape": {
        "columns": 7,
        "rows": 101
       }
      },
      "text/html": [
       "<div>\n",
       "<style scoped>\n",
       "    .dataframe tbody tr th:only-of-type {\n",
       "        vertical-align: middle;\n",
       "    }\n",
       "\n",
       "    .dataframe tbody tr th {\n",
       "        vertical-align: top;\n",
       "    }\n",
       "\n",
       "    .dataframe thead th {\n",
       "        text-align: right;\n",
       "    }\n",
       "</style>\n",
       "<table border=\"1\" class=\"dataframe\">\n",
       "  <thead>\n",
       "    <tr style=\"text-align: right;\">\n",
       "      <th></th>\n",
       "      <th>idx</th>\n",
       "      <th>dog_whistle</th>\n",
       "      <th>dog_whistle_root</th>\n",
       "      <th>ingroup</th>\n",
       "      <th>definition</th>\n",
       "      <th>content</th>\n",
       "      <th>label</th>\n",
       "    </tr>\n",
       "  </thead>\n",
       "  <tbody>\n",
       "    <tr>\n",
       "      <th>0</th>\n",
       "      <td>0</td>\n",
       "      <td>YWNBAW</td>\n",
       "      <td>YWNBAW</td>\n",
       "      <td>transphobic</td>\n",
       "      <td>You Will Never Be A Woman (YWNBAW) is an alt-r...</td>\n",
       "      <td>\"Might I suggest you reach out to YWNBAW? Very...</td>\n",
       "      <td>1</td>\n",
       "    </tr>\n",
       "    <tr>\n",
       "      <th>1</th>\n",
       "      <td>1</td>\n",
       "      <td>109</td>\n",
       "      <td>109</td>\n",
       "      <td>antisemitic</td>\n",
       "      <td>109 stands for the 109 locations that Jews wer...</td>\n",
       "      <td>\"\"Wow 109 countries,  and they consider us as ...</td>\n",
       "      <td>1</td>\n",
       "    </tr>\n",
       "    <tr>\n",
       "      <th>2</th>\n",
       "      <td>2</td>\n",
       "      <td>alarmist</td>\n",
       "      <td>alarmist</td>\n",
       "      <td>climate change denier</td>\n",
       "      <td>\"Alarmist\" is a common global warming denialis...</td>\n",
       "      <td>\"A mountain of evidence shows climate alarmist...</td>\n",
       "      <td>1</td>\n",
       "    </tr>\n",
       "    <tr>\n",
       "      <th>3</th>\n",
       "      <td>3</td>\n",
       "      <td>Aiden</td>\n",
       "      <td>Aiden</td>\n",
       "      <td>transphobic</td>\n",
       "      <td>Derogatory term for a transgender man, based o...</td>\n",
       "      <td>\"TRAs always need to get the last word in and ...</td>\n",
       "      <td>1</td>\n",
       "    </tr>\n",
       "    <tr>\n",
       "      <th>4</th>\n",
       "      <td>4</td>\n",
       "      <td>Judeo-Christian</td>\n",
       "      <td>Judeo-Christian</td>\n",
       "      <td>Islamophobic</td>\n",
       "      <td>It might seem neighbourly, even pluralistic, t...</td>\n",
       "      <td>\"We are stopping cold the attacks on Judeo-Chr...</td>\n",
       "      <td>1</td>\n",
       "    </tr>\n",
       "    <tr>\n",
       "      <th>...</th>\n",
       "      <td>...</td>\n",
       "      <td>...</td>\n",
       "      <td>...</td>\n",
       "      <td>...</td>\n",
       "      <td>...</td>\n",
       "      <td>...</td>\n",
       "      <td>...</td>\n",
       "    </tr>\n",
       "    <tr>\n",
       "      <th>96</th>\n",
       "      <td>96</td>\n",
       "      <td>norm20</td>\n",
       "      <td>None</td>\n",
       "      <td>None</td>\n",
       "      <td>None</td>\n",
       "      <td>As the plane accelerates, we feel like we’re b...</td>\n",
       "      <td>0</td>\n",
       "    </tr>\n",
       "    <tr>\n",
       "      <th>97</th>\n",
       "      <td>97</td>\n",
       "      <td>norm21</td>\n",
       "      <td>None</td>\n",
       "      <td>None</td>\n",
       "      <td>None</td>\n",
       "      <td>Depending on the type of bomb, weapon safety r...</td>\n",
       "      <td>0</td>\n",
       "    </tr>\n",
       "    <tr>\n",
       "      <th>98</th>\n",
       "      <td>98</td>\n",
       "      <td>norm22</td>\n",
       "      <td>None</td>\n",
       "      <td>None</td>\n",
       "      <td>None</td>\n",
       "      <td>and to ad on, even humans don't die of \"old ag...</td>\n",
       "      <td>0</td>\n",
       "    </tr>\n",
       "    <tr>\n",
       "      <th>99</th>\n",
       "      <td>99</td>\n",
       "      <td>norm23</td>\n",
       "      <td>None</td>\n",
       "      <td>None</td>\n",
       "      <td>None</td>\n",
       "      <td>I just don't like it anymore. I lived in Wisco...</td>\n",
       "      <td>0</td>\n",
       "    </tr>\n",
       "    <tr>\n",
       "      <th>100</th>\n",
       "      <td>100</td>\n",
       "      <td>norm24</td>\n",
       "      <td>None</td>\n",
       "      <td>None</td>\n",
       "      <td>None</td>\n",
       "      <td>The main technical difficulty in producing a n...</td>\n",
       "      <td>0</td>\n",
       "    </tr>\n",
       "  </tbody>\n",
       "</table>\n",
       "<p>101 rows × 7 columns</p>\n",
       "</div>"
      ],
      "text/plain": [
       "     idx      dog_whistle dog_whistle_root                ingroup  \\\n",
       "0      0           YWNBAW           YWNBAW            transphobic   \n",
       "1      1              109              109            antisemitic   \n",
       "2      2         alarmist         alarmist  climate change denier   \n",
       "3      3            Aiden            Aiden            transphobic   \n",
       "4      4  Judeo-Christian  Judeo-Christian           Islamophobic   \n",
       "..   ...              ...              ...                    ...   \n",
       "96    96           norm20             None                   None   \n",
       "97    97           norm21             None                   None   \n",
       "98    98           norm22             None                   None   \n",
       "99    99           norm23             None                   None   \n",
       "100  100           norm24             None                   None   \n",
       "\n",
       "                                            definition  \\\n",
       "0    You Will Never Be A Woman (YWNBAW) is an alt-r...   \n",
       "1    109 stands for the 109 locations that Jews wer...   \n",
       "2    \"Alarmist\" is a common global warming denialis...   \n",
       "3    Derogatory term for a transgender man, based o...   \n",
       "4    It might seem neighbourly, even pluralistic, t...   \n",
       "..                                                 ...   \n",
       "96                                                None   \n",
       "97                                                None   \n",
       "98                                                None   \n",
       "99                                                None   \n",
       "100                                               None   \n",
       "\n",
       "                                               content  label  \n",
       "0    \"Might I suggest you reach out to YWNBAW? Very...      1  \n",
       "1    \"\"Wow 109 countries,  and they consider us as ...      1  \n",
       "2    \"A mountain of evidence shows climate alarmist...      1  \n",
       "3    \"TRAs always need to get the last word in and ...      1  \n",
       "4    \"We are stopping cold the attacks on Judeo-Chr...      1  \n",
       "..                                                 ...    ...  \n",
       "96   As the plane accelerates, we feel like we’re b...      0  \n",
       "97   Depending on the type of bomb, weapon safety r...      0  \n",
       "98   and to ad on, even humans don't die of \"old ag...      0  \n",
       "99   I just don't like it anymore. I lived in Wisco...      0  \n",
       "100  The main technical difficulty in producing a n...      0  \n",
       "\n",
       "[101 rows x 7 columns]"
      ]
     },
     "execution_count": 12,
     "metadata": {},
     "output_type": "execute_result"
    }
   ],
   "source": [
    "mixed_df = mixed_df.rename(columns={\"example\": \"content\"})\n",
    "mixed_df"
   ]
  },
  {
   "cell_type": "markdown",
   "id": "17921f3e",
   "metadata": {},
   "source": [
    "# Running PREDICT on the dataset"
   ]
  },
  {
   "cell_type": "code",
   "execution_count": 16,
   "id": "eca09340",
   "metadata": {},
   "outputs": [
    {
     "name": "stdout",
     "output_type": "stream",
     "text": [
      "2.2.4\n"
     ]
    }
   ],
   "source": [
    "import numpy\n",
    "print(numpy.__version__)"
   ]
  },
  {
   "cell_type": "code",
   "execution_count": 15,
   "id": "c425a635",
   "metadata": {},
   "outputs": [
    {
     "name": "stdout",
     "output_type": "stream",
     "text": [
      "Loading custom toxicity classifier model...\n",
      "Running PREDICT on nearest neighbors...\n",
      "Retrieved 5 neighbor posts.\n",
      "Neighbor 1 | Toxicity Score: 0.048\n",
      "Neighbor 1 | Toxic: False\n",
      "Neighbor 2 | Toxicity Score: 0.813\n",
      "Neighbor 2 | Toxic: True\n"
     ]
    },
    {
     "ename": "RuntimeError",
     "evalue": "Numpy is not available",
     "output_type": "error",
     "traceback": [
      "\u001b[31m---------------------------------------------------------------------------\u001b[39m",
      "\u001b[31mRuntimeError\u001b[39m                              Traceback (most recent call last)",
      "\u001b[36mCell\u001b[39m\u001b[36m \u001b[39m\u001b[32mIn[15]\u001b[39m\u001b[32m, line 46\u001b[39m\n\u001b[32m     44\u001b[39m \u001b[38;5;28mprint\u001b[39m(\u001b[33mf\u001b[39m\u001b[33m\"\u001b[39m\u001b[33mNeighbor \u001b[39m\u001b[38;5;132;01m{\u001b[39;00mi+\u001b[32m1\u001b[39m\u001b[38;5;132;01m}\u001b[39;00m\u001b[33m | Toxic: True\u001b[39m\u001b[33m\"\u001b[39m)\n\u001b[32m     45\u001b[39m keywords_yake = extract_keywords_yake(post)\n\u001b[32m---> \u001b[39m\u001b[32m46\u001b[39m keywords_kb = \u001b[43mextract_keywords_keybert\u001b[49m\u001b[43m(\u001b[49m\u001b[43mpost\u001b[49m\u001b[43m)\u001b[49m\n\u001b[32m     47\u001b[39m combined_keywords = \u001b[38;5;28mlist\u001b[39m(\u001b[38;5;28mset\u001b[39m(keywords_yake + keywords_kb))\n\u001b[32m     48\u001b[39m filtered_keywords = [kw \u001b[38;5;28;01mfor\u001b[39;00m kw \u001b[38;5;129;01min\u001b[39;00m combined_keywords \u001b[38;5;28;01mif\u001b[39;00m \u001b[38;5;28mlen\u001b[39m(kw) > \u001b[32m3\u001b[39m \u001b[38;5;129;01mand\u001b[39;00m kw.lower() \u001b[38;5;129;01mnot\u001b[39;00m \u001b[38;5;129;01min\u001b[39;00m {\u001b[33m\"\u001b[39m\u001b[33mgoing\u001b[39m\u001b[33m\"\u001b[39m, \u001b[33m\"\u001b[39m\u001b[33mtoday\u001b[39m\u001b[33m\"\u001b[39m, \u001b[33m\"\u001b[39m\u001b[33mvery\u001b[39m\u001b[33m\"\u001b[39m, \u001b[33m\"\u001b[39m\u001b[33mhave\u001b[39m\u001b[33m\"\u001b[39m, \u001b[33m\"\u001b[39m\u001b[33mback\u001b[39m\u001b[33m\"\u001b[39m, \u001b[33m\"\u001b[39m\u001b[33mface\u001b[39m\u001b[33m\"\u001b[39m, \u001b[33m\"\u001b[39m\u001b[33mevery\u001b[39m\u001b[33m\"\u001b[39m, \u001b[33m\"\u001b[39m\u001b[33mcopy\u001b[39m\u001b[33m\"\u001b[39m, \u001b[33m\"\u001b[39m\u001b[33mcopies\u001b[39m\u001b[33m\"\u001b[39m}]\n",
      "\u001b[36mCell\u001b[39m\u001b[36m \u001b[39m\u001b[32mIn[15]\u001b[39m\u001b[32m, line 30\u001b[39m, in \u001b[36mextract_keywords_keybert\u001b[39m\u001b[34m(text)\u001b[39m\n\u001b[32m     29\u001b[39m \u001b[38;5;28;01mdef\u001b[39;00m\u001b[38;5;250m \u001b[39m\u001b[34mextract_keywords_keybert\u001b[39m(text):\n\u001b[32m---> \u001b[39m\u001b[32m30\u001b[39m     \u001b[38;5;28;01mreturn\u001b[39;00m [kw \u001b[38;5;28;01mfor\u001b[39;00m kw, _ \u001b[38;5;129;01min\u001b[39;00m \u001b[43mkw_extractor_kb\u001b[49m\u001b[43m.\u001b[49m\u001b[43mextract_keywords\u001b[49m\u001b[43m(\u001b[49m\u001b[43mtext\u001b[49m\u001b[43m,\u001b[49m\u001b[43m \u001b[49m\u001b[43mtop_n\u001b[49m\u001b[43m=\u001b[49m\u001b[32;43m5\u001b[39;49m\u001b[43m)\u001b[49m]\n",
      "\u001b[36mFile \u001b[39m\u001b[32m~/MSDS/deeplearning_dogwhistle_project/.venv/lib/python3.11/site-packages/keybert/_model.py:197\u001b[39m, in \u001b[36mKeyBERT.extract_keywords\u001b[39m\u001b[34m(self, docs, candidates, keyphrase_ngram_range, stop_words, top_n, min_df, use_maxsum, use_mmr, diversity, nr_candidates, vectorizer, highlight, seed_keywords, doc_embeddings, word_embeddings, threshold)\u001b[39m\n\u001b[32m    195\u001b[39m \u001b[38;5;66;03m# Extract embeddings\u001b[39;00m\n\u001b[32m    196\u001b[39m \u001b[38;5;28;01mif\u001b[39;00m doc_embeddings \u001b[38;5;129;01mis\u001b[39;00m \u001b[38;5;28;01mNone\u001b[39;00m:\n\u001b[32m--> \u001b[39m\u001b[32m197\u001b[39m     doc_embeddings = \u001b[38;5;28;43mself\u001b[39;49m\u001b[43m.\u001b[49m\u001b[43mmodel\u001b[49m\u001b[43m.\u001b[49m\u001b[43membed\u001b[49m\u001b[43m(\u001b[49m\u001b[43mdocs\u001b[49m\u001b[43m)\u001b[49m\n\u001b[32m    198\u001b[39m \u001b[38;5;28;01mif\u001b[39;00m word_embeddings \u001b[38;5;129;01mis\u001b[39;00m \u001b[38;5;28;01mNone\u001b[39;00m:\n\u001b[32m    199\u001b[39m     word_embeddings = \u001b[38;5;28mself\u001b[39m.model.embed(words)\n",
      "\u001b[36mFile \u001b[39m\u001b[32m~/MSDS/deeplearning_dogwhistle_project/.venv/lib/python3.11/site-packages/keybert/backend/_sentencetransformers.py:65\u001b[39m, in \u001b[36mSentenceTransformerBackend.embed\u001b[39m\u001b[34m(self, documents, verbose)\u001b[39m\n\u001b[32m     53\u001b[39m \u001b[38;5;250m\u001b[39m\u001b[33;03m\"\"\"Embed a list of n documents/words into an n-dimensional\u001b[39;00m\n\u001b[32m     54\u001b[39m \u001b[33;03mmatrix of embeddings.\u001b[39;00m\n\u001b[32m     55\u001b[39m \n\u001b[32m   (...)\u001b[39m\u001b[32m     62\u001b[39m \u001b[33;03m    that each have an embeddings size of `m`\u001b[39;00m\n\u001b[32m     63\u001b[39m \u001b[33;03m\"\"\"\u001b[39;00m\n\u001b[32m     64\u001b[39m \u001b[38;5;28mself\u001b[39m.encode_kwargs.update({\u001b[33m\"\u001b[39m\u001b[33mshow_progress_bar\u001b[39m\u001b[33m\"\u001b[39m: verbose})\n\u001b[32m---> \u001b[39m\u001b[32m65\u001b[39m embeddings = \u001b[38;5;28;43mself\u001b[39;49m\u001b[43m.\u001b[49m\u001b[43membedding_model\u001b[49m\u001b[43m.\u001b[49m\u001b[43mencode\u001b[49m\u001b[43m(\u001b[49m\u001b[43mdocuments\u001b[49m\u001b[43m,\u001b[49m\u001b[43m \u001b[49m\u001b[43m*\u001b[49m\u001b[43m*\u001b[49m\u001b[38;5;28;43mself\u001b[39;49m\u001b[43m.\u001b[49m\u001b[43mencode_kwargs\u001b[49m\u001b[43m)\u001b[49m\n\u001b[32m     66\u001b[39m \u001b[38;5;28;01mreturn\u001b[39;00m embeddings\n",
      "\u001b[36mFile \u001b[39m\u001b[32m~/MSDS/deeplearning_dogwhistle_project/.venv/lib/python3.11/site-packages/sentence_transformers/SentenceTransformer.py:736\u001b[39m, in \u001b[36mSentenceTransformer.encode\u001b[39m\u001b[34m(self, sentences, prompt_name, prompt, batch_size, show_progress_bar, output_value, precision, convert_to_numpy, convert_to_tensor, device, normalize_embeddings, **kwargs)\u001b[39m\n\u001b[32m    734\u001b[39m             all_embeddings = np.asarray([emb.float().numpy() \u001b[38;5;28;01mfor\u001b[39;00m emb \u001b[38;5;129;01min\u001b[39;00m all_embeddings])\n\u001b[32m    735\u001b[39m         \u001b[38;5;28;01melse\u001b[39;00m:\n\u001b[32m--> \u001b[39m\u001b[32m736\u001b[39m             all_embeddings = np.asarray(\u001b[43m[\u001b[49m\u001b[43memb\u001b[49m\u001b[43m.\u001b[49m\u001b[43mnumpy\u001b[49m\u001b[43m(\u001b[49m\u001b[43m)\u001b[49m\u001b[43m \u001b[49m\u001b[38;5;28;43;01mfor\u001b[39;49;00m\u001b[43m \u001b[49m\u001b[43memb\u001b[49m\u001b[43m \u001b[49m\u001b[38;5;129;43;01min\u001b[39;49;00m\u001b[43m \u001b[49m\u001b[43mall_embeddings\u001b[49m\u001b[43m]\u001b[49m)\n\u001b[32m    737\u001b[39m \u001b[38;5;28;01melif\u001b[39;00m \u001b[38;5;28misinstance\u001b[39m(all_embeddings, np.ndarray):\n\u001b[32m    738\u001b[39m     all_embeddings = [torch.from_numpy(embedding) \u001b[38;5;28;01mfor\u001b[39;00m embedding \u001b[38;5;129;01min\u001b[39;00m all_embeddings]\n",
      "\u001b[36mFile \u001b[39m\u001b[32m~/MSDS/deeplearning_dogwhistle_project/.venv/lib/python3.11/site-packages/sentence_transformers/SentenceTransformer.py:736\u001b[39m, in \u001b[36m<listcomp>\u001b[39m\u001b[34m(.0)\u001b[39m\n\u001b[32m    734\u001b[39m             all_embeddings = np.asarray([emb.float().numpy() \u001b[38;5;28;01mfor\u001b[39;00m emb \u001b[38;5;129;01min\u001b[39;00m all_embeddings])\n\u001b[32m    735\u001b[39m         \u001b[38;5;28;01melse\u001b[39;00m:\n\u001b[32m--> \u001b[39m\u001b[32m736\u001b[39m             all_embeddings = np.asarray([\u001b[43memb\u001b[49m\u001b[43m.\u001b[49m\u001b[43mnumpy\u001b[49m\u001b[43m(\u001b[49m\u001b[43m)\u001b[49m \u001b[38;5;28;01mfor\u001b[39;00m emb \u001b[38;5;129;01min\u001b[39;00m all_embeddings])\n\u001b[32m    737\u001b[39m \u001b[38;5;28;01melif\u001b[39;00m \u001b[38;5;28misinstance\u001b[39m(all_embeddings, np.ndarray):\n\u001b[32m    738\u001b[39m     all_embeddings = [torch.from_numpy(embedding) \u001b[38;5;28;01mfor\u001b[39;00m embedding \u001b[38;5;129;01min\u001b[39;00m all_embeddings]\n",
      "\u001b[31mRuntimeError\u001b[39m: Numpy is not available"
     ]
    }
   ],
   "source": [
    "texts = mixed_df['content'].tolist()  # Adjust column name if needed\n",
    "# -------------------------------\n",
    "# PREDICT Pipeline: Filter + Keyword Extraction\n",
    "# -------------------------------\n",
    "\n",
    "# Load classifier manually to bypass numpy issue\n",
    "print(\"Loading custom toxicity classifier model...\")\n",
    "tokenizer = AutoTokenizer.from_pretrained(CLASSIFIER_MODEL)\n",
    "if tokenizer.pad_token is None:\n",
    "    tokenizer.add_special_tokens({'pad_token': '[PAD]'})\n",
    "classifier_model = AutoModelForSequenceClassification.from_pretrained(CLASSIFIER_MODEL)\n",
    "classifier_model.resize_token_embeddings(len(tokenizer))\n",
    "classifier_model.eval()\n",
    "\n",
    "# Initialize YAKE and KeyBERT keyword extractors\n",
    "kw_extractor_yake = yake.KeywordExtractor(top=5, stopwords=None)\n",
    "kw_extractor_kb = KeyBERT(model=EMBEDDING_MODEL_NAME)\n",
    "\n",
    "def get_toxic_score(text):\n",
    "    inputs = tokenizer(text, return_tensors=\"pt\", truncation=True, padding=True)\n",
    "    with torch.no_grad():\n",
    "        outputs = classifier_model(**inputs)\n",
    "        probs = F.softmax(outputs.logits, dim=-1)[0]\n",
    "    return probs[1].item()\n",
    "\n",
    "def extract_keywords_yake(text):\n",
    "    return [kw for kw, score in kw_extractor_yake.extract_keywords(text)]\n",
    "\n",
    "def extract_keywords_keybert(text):\n",
    "    return [kw for kw, _ in kw_extractor_kb.extract_keywords(text, top_n=5)]\n",
    "\n",
    "# Run PREDICT on neighbors of example query\n",
    "print(\"Running PREDICT on nearest neighbors...\")\n",
    "example_query = texts[12]\n",
    "neighbors = get_neighbors(example_query, k=5)\n",
    "predict_results = []\n",
    "\n",
    "print(f\"Retrieved {len(neighbors['documents'][0])} neighbor posts.\")\n",
    "\n",
    "for i, post in enumerate(neighbors['documents'][0]):\n",
    "    score_raw = get_toxic_score(post)\n",
    "    print(f\"Neighbor {i+1} | Toxicity Score: {score_raw:.3f}\")\n",
    "    if score_raw >= 0.2:  # lowered threshold from 0.3 to 0.2\n",
    "        print(f\"Neighbor {i+1} | Toxic: True\")\n",
    "        keywords_yake = extract_keywords_yake(post)\n",
    "        keywords_kb = extract_keywords_keybert(post)\n",
    "        combined_keywords = list(set(keywords_yake + keywords_kb))\n",
    "        filtered_keywords = [kw for kw in combined_keywords if len(kw) > 3 and kw.lower() not in {\"going\", \"today\", \"very\", \"have\", \"back\", \"face\", \"every\", \"copy\", \"copies\"}]\n",
    "        predict_results.append({\n",
    "            'post': post,\n",
    "            'keywords': filtered_keywords\n",
    "        })\n",
    "    else:\n",
    "        print(f\"Neighbor {i+1} | Toxic: False\")\n",
    "\n",
    "print(f\"PREDICT returned {len(predict_results)} toxic posts with keywords.\")\n",
    "for result in predict_results:\n",
    "    print(\"\\nPost:\", result['post'])\n",
    "    print(\"Extracted Keywords:\", result['keywords'])\n"
   ]
  },
  {
   "cell_type": "markdown",
   "id": "8bd0e5ef",
   "metadata": {},
   "source": [
    "# Evaluate PREDICT on the dataset"
   ]
  },
  {
   "cell_type": "code",
   "execution_count": null,
   "id": "8f05d284",
   "metadata": {},
   "outputs": [
    {
     "name": "stdout",
     "output_type": "stream",
     "text": [
      "Initial PREDICT Classifier Evaluation on Full Mixed Dataset:\n",
      "              precision    recall  f1-score   support\n",
      "\n",
      "           0       0.44      0.48      0.46        50\n",
      "           1       0.43      0.39      0.41        51\n",
      "\n",
      "    accuracy                           0.44       101\n",
      "   macro avg       0.44      0.44      0.43       101\n",
      "weighted avg       0.44      0.44      0.43       101\n",
      "\n"
     ]
    }
   ],
   "source": [
    "from sklearn.metrics import classification_report\n",
    "\n",
    "y_true = []\n",
    "y_pred = []\n",
    "\n",
    "for row in mixed_df.itertuples():\n",
    "    text = row.content  # or row.example, depending on column name\n",
    "    label = row.label\n",
    "    score = get_toxic_score(text)\n",
    "    \n",
    "    y_true.append(label)\n",
    "    y_pred.append(1 if score >= 0.2 else 0)  # adjust threshold if needed\n",
    "\n",
    "print(\"Initial PREDICT Classifier Evaluation on Full Mixed Dataset:\")\n",
    "print(classification_report(y_true, y_pred))"
   ]
  },
  {
   "cell_type": "markdown",
   "id": "c62542d7",
   "metadata": {},
   "source": [
    "# Running DIRECT on the dataset"
   ]
  },
  {
   "cell_type": "code",
   "execution_count": null,
   "id": "e28b0264",
   "metadata": {},
   "outputs": [
    {
     "name": "stdout",
     "output_type": "stream",
     "text": [
      "\n",
      "Running DIRECT on nearest neighbors...\n",
      "Post: Censoring comedy, fighting for some invented right to teach little kids in schools that switching genders is brave and stunning, cheering for a man swimming against girls, forced diversity, forcing latinx on Latinos who keep insisting they consider it a slur - list goes on.\n",
      "LLM Response: {\n",
      "  \"is_dog_whistle\": true,\n",
      "  \"dog_whistle_terms\": [\"censoring comedy\", \"invented right\", \"switching genders\", \"forced diversity\", \"latinx\"],\n",
      "  \"explanation\": \"The post uses terms and phrases that suggest a disdain for LGBTQ+ rights and diversity initiatives, which can be interpreted as covert hate speech. Phrases like 'invented right' and 'forced diversity' imply that these rights and initiatives are illegitimate, while 'latinx' is presented in a derogatory context, indicating a rejection of inclusive language. This language can resonate with audiences who hold anti-LGBTQ+ or anti-diversity sentiments.\"\n",
      "}\n",
      "Post: This aligns closely with my analysis of the rise of gender identity ideology. Society is constantly concocting alternative routes around confronting trauma, individually, and collectively. A must read on this phenomenon is Judith Lewis Herman, *Trauma and Recovery*.\n",
      "LLM Response: {\n",
      "  \"is_dog_whistle\": false,\n",
      "  \"dog_whistle_terms\": [],\n",
      "  \"explanation\": \"The post discusses gender identity ideology and trauma recovery without using coded language or terms that suggest hate or discrimination. It references a specific academic work, which indicates a focus on analysis rather than promoting any form of hate speech.\"\n",
      "}\n",
      "Post: Feminism's main pushes in recent times have been the institution of gender quotas that allow women to take jobs, scholarships, and positions in universities away from equally or more qualified men purely because they have a vagina to the point where now more women then men are attending college, in addition to primary education systems moving towards more female centric education programs which are also contributing to the rapidly dropping grades of boys in every subject across all grade levels.\n",
      "LLM Response: {\n",
      "  \"is_dog_whistle\": true,\n",
      "  \"dog_whistle_terms\": [\"gender quotas\", \"vagina\", \"female centric education\"],\n",
      "  \"explanation\": \"The post uses terms and phrases that suggest a belief that gender equality initiatives are unfairly disadvantaging men, which can be interpreted as a covert attack on feminism. The language implies that women's advancements are undeserved and that they are harming boys and men, which aligns with certain anti-feminist rhetoric.\"\n",
      "}\n",
      "Post: Men invented gender, and now they've decided they like gender too much to get rid of it. This is their reaction to the scary gender abolitionist push of the second wave. Shocker.\n",
      "LLM Response: {\n",
      "  \"is_dog_whistle\": false,\n",
      "  \"dog_whistle_terms\": [],\n",
      "  \"explanation\": \"The post critiques a specific viewpoint regarding gender and does not contain any covert hate speech or dog whistles. It discusses gender concepts and movements without using coded language or terms that would signal a hidden agenda against a particular group.\"\n",
      "}\n",
      "Post: Compare this article with [Katherine Cross's]( The SJWs don't even have a consistent complaint. Cross is whining about commodifying women by depicting them with idealized personalities. That's what Maddy is praising in her article, as long as it's done to men.\n",
      "LLM Response: {\n",
      "  \"is_dog_whistle\": false,\n",
      "  \"dog_whistle_terms\": [],\n",
      "  \"explanation\": \"The post critiques a specific individual's views and discusses gender representation in media without using coded language or terms that suggest covert hate speech. It focuses on a debate about gender and representation rather than promoting hate or discrimination.\"\n",
      "}\n"
     ]
    }
   ],
   "source": [
    "# -------------------------------\n",
    "# DIRECT Pipeline: LLM Prompting for Dog Whistle Detection\n",
    "# -------------------------------\n",
    "import openai\n",
    "import os\n",
    "from dotenv import load_dotenv\n",
    "load_dotenv()\n",
    "client = openai.OpenAI()\n",
    "\n",
    "def call_llm_direct(post):\n",
    "    prompt = f\"\"\"\n",
    "You are a content moderation assistant. Identify whether the following post contains any covert hate speech or dog whistles.\n",
    "\n",
    "Return your response in the following JSON format:\n",
    "{{\n",
    "  \"is_dog_whistle\": true/false,\n",
    "  \"dog_whistle_terms\": [\"term1\", \"term2\", ...],\n",
    "  \"explanation\": \"brief explanation of detection or why it's not a dog whistle\"\n",
    "}}\n",
    "\n",
    "Post: \"{post}\"\n",
    "\"\"\"\n",
    "\n",
    "    response = client.chat.completions.create(\n",
    "        model=\"gpt-4o-mini\",\n",
    "        messages=[{\"role\": \"user\", \"content\": prompt}],\n",
    "        temperature=0\n",
    "    )\n",
    "    return response.choices[0].message.content\n",
    "\n",
    "# Run DIRECT on neighbors of example query\n",
    "print(\"\\nRunning DIRECT on nearest neighbors...\")\n",
    "direct_results = []\n",
    "\n",
    "for post in neighbors['documents'][0]:\n",
    "    try:\n",
    "        analysis = call_llm_direct(post)\n",
    "        direct_results.append({\n",
    "            'post': post,\n",
    "            'llm_response': analysis\n",
    "        })\n",
    "    except Exception as e:\n",
    "        print(\"Error calling LLM:\", e)\n",
    "\n",
    "# Show results\n",
    "for result in direct_results:\n",
    "    print(\"Post:\", result['post'])\n",
    "    print(\"LLM Response:\", result['llm_response'])"
   ]
  },
  {
   "cell_type": "markdown",
   "id": "8f0d1d27",
   "metadata": {},
   "source": [
    "# Evaluate DIRECT on the dataset"
   ]
  },
  {
   "cell_type": "code",
   "execution_count": null,
   "id": "c76d85ec",
   "metadata": {},
   "outputs": [
    {
     "name": "stdout",
     "output_type": "stream",
     "text": [
      "Initial DIRECT Classifier Evaluation on Full Mixed Dataset:\n",
      "              precision    recall  f1-score   support\n",
      "\n",
      "           0       0.81      0.86      0.83        50\n",
      "           1       0.85      0.80      0.83        51\n",
      "\n",
      "    accuracy                           0.83       101\n",
      "   macro avg       0.83      0.83      0.83       101\n",
      "weighted avg       0.83      0.83      0.83       101\n",
      "\n"
     ]
    }
   ],
   "source": [
    "import json\n",
    "from sklearn.metrics import classification_report\n",
    "\n",
    "y_true = []\n",
    "y_pred = []\n",
    "\n",
    "for row in mixed_df.itertuples():\n",
    "    text = row.content\n",
    "    label = row.label\n",
    "    try:\n",
    "        response = call_llm_direct(text)\n",
    "        parsed = json.loads(response)\n",
    "        is_dog_whistle = parsed.get(\"is_dog_whistle\", False)\n",
    "    except Exception as e:\n",
    "        print(\"Error:\", e)\n",
    "        is_dog_whistle = False\n",
    "\n",
    "    y_true.append(label)\n",
    "    y_pred.append(1 if is_dog_whistle else 0)\n",
    "\n",
    "print(\"Initial DIRECT Classifier Evaluation on Full Mixed Dataset:\")\n",
    "print(classification_report(y_true, y_pred, zero_division=0))"
   ]
  },
  {
   "cell_type": "markdown",
   "id": "3c89144b",
   "metadata": {},
   "source": [
    "# Fine-tuning PREDICT"
   ]
  },
  {
   "cell_type": "code",
   "execution_count": null,
   "id": "38f1b09a",
   "metadata": {},
   "outputs": [
    {
     "name": "stderr",
     "output_type": "stream",
     "text": [
      "Map: 100%|██████████| 101/101 [00:00<00:00, 9821.82 examples/s]\n"
     ]
    },
    {
     "data": {
      "text/html": [
       "\n",
       "    <div>\n",
       "      \n",
       "      <progress value='52' max='52' style='width:300px; height:20px; vertical-align: middle;'></progress>\n",
       "      [52/52 01:08, Epoch 4/4]\n",
       "    </div>\n",
       "    <table border=\"1\" class=\"dataframe\">\n",
       "  <thead>\n",
       " <tr style=\"text-align: left;\">\n",
       "      <th>Step</th>\n",
       "      <th>Training Loss</th>\n",
       "    </tr>\n",
       "  </thead>\n",
       "  <tbody>\n",
       "    <tr>\n",
       "      <td>10</td>\n",
       "      <td>1.098000</td>\n",
       "    </tr>\n",
       "    <tr>\n",
       "      <td>20</td>\n",
       "      <td>0.669100</td>\n",
       "    </tr>\n",
       "    <tr>\n",
       "      <td>30</td>\n",
       "      <td>0.341700</td>\n",
       "    </tr>\n",
       "    <tr>\n",
       "      <td>40</td>\n",
       "      <td>0.131300</td>\n",
       "    </tr>\n",
       "    <tr>\n",
       "      <td>50</td>\n",
       "      <td>0.207900</td>\n",
       "    </tr>\n",
       "  </tbody>\n",
       "</table><p>"
      ],
      "text/plain": [
       "<IPython.core.display.HTML object>"
      ]
     },
     "metadata": {},
     "output_type": "display_data"
    }
   ],
   "source": [
    "from datasets import Dataset\n",
    "from transformers import Trainer, TrainingArguments\n",
    "hf_dataset = Dataset.from_pandas(mixed_df)\n",
    "\n",
    "# Tokenize\n",
    "def tokenize_fn(batch):\n",
    "    return tokenizer(batch[\"content\"], truncation=True, padding=\"max_length\", max_length=128)\n",
    "\n",
    "tokenized_ds = hf_dataset.map(tokenize_fn, batched=True)\n",
    "\n",
    "# Trainer Setup\n",
    "training_args = TrainingArguments(\n",
    "    output_dir=\"./finetuned_predict_model\",\n",
    "    per_device_train_batch_size=8,\n",
    "    num_train_epochs=4,\n",
    "    logging_steps=10\n",
    ")\n",
    "\n",
    "def compute_metrics(eval_pred):\n",
    "    logits, labels = eval_pred\n",
    "    preds = np.argmax(logits, axis=1)\n",
    "    return {\n",
    "        \"accuracy\": accuracy_score(labels, preds),\n",
    "        \"f1\": f1_score(labels, preds)\n",
    "    }\n",
    "\n",
    "trainer = Trainer(\n",
    "    model=classifier_model,\n",
    "    args=training_args,\n",
    "    train_dataset=tokenized_ds,\n",
    "    eval_dataset=tokenized_ds,\n",
    "    tokenizer=tokenizer,\n",
    "    compute_metrics=compute_metrics\n",
    ")\n",
    "\n",
    "trainer.train()\n",
    "trainer.save_model(\"./finetuned_predict_model\")"
   ]
  },
  {
   "cell_type": "code",
   "execution_count": null,
   "id": "c1e69312",
   "metadata": {},
   "outputs": [
    {
     "data": {
      "application/vnd.microsoft.datawrangler.viewer.v0+json": {
       "columns": [
        {
         "name": "index",
         "rawType": "int64",
         "type": "integer"
        },
        {
         "name": "idx",
         "rawType": "int64",
         "type": "integer"
        },
        {
         "name": "dog_whistle",
         "rawType": "object",
         "type": "string"
        },
        {
         "name": "dog_whistle_root",
         "rawType": "object",
         "type": "unknown"
        },
        {
         "name": "ingroup",
         "rawType": "object",
         "type": "unknown"
        },
        {
         "name": "definition",
         "rawType": "object",
         "type": "unknown"
        },
        {
         "name": "example",
         "rawType": "object",
         "type": "string"
        },
        {
         "name": "label",
         "rawType": "int64",
         "type": "integer"
        }
       ],
       "conversionMethod": "pd.DataFrame",
       "ref": "00e1e3fc-157d-4e57-a8d8-a14ae2f3c84f",
       "rows": [
        [
         "0",
         "0",
         "YWNBAW",
         "YWNBAW",
         "transphobic",
         "You Will Never Be A Woman (YWNBAW) is an alt-right insult to anyone who opposes their views on Trump and implies that a sizeable part of social progressives are transgender women. The insult derives from a 4chan copypasta that became popular on other right wing platforms.[455] The copypasta argues that trans women are not women in a biological sense because they have no eggs and no womb and that they can never give birth, while also arguing that any compliments given to them are fake and humiliating in order to imply that trans women will mutilate their body to fish for likes.",
         "\"Might I suggest you reach out to YWNBAW? Very likely to help shed light on the situation.\"",
         "1"
        ],
        [
         "1",
         "1",
         "109",
         "109",
         "antisemitic",
         "109 stands for the 109 locations that Jews were alleged to have to have been expelled from, and of course implies it was their own fault every time. Nazis usually conflate these locations with 'countries'. One may also see a 110, meaning that Jews need to be kicked out from another country.",
         "\"\"Wow 109 countries,  and they consider us as cattle?\"\"That's right Sneako, just wait till you hear about the blood libel and black cube of saturn\"\"",
         "1"
        ],
        [
         "2",
         "2",
         "alarmist",
         "alarmist",
         "climate change denier",
         "\"Alarmist\" is a common global warming denialist dog-whistle to refer to anyone who wants to implement policies that aim to reduce the amount of CO2 we put into the atmosphere. Referring to oneself as being a \"climate realist\" also qualifies. While true alarmism does indeed exist, it is extremely rare and has virtually no political influence currently.",
         "\"A mountain of evidence shows climate alarmists never learn from their mistakes, be they clear misstatements of facts or repeatedly failed prognostications.Why should they? The press lets climate alarmists get away with making more false claims than any other group on any other topic, including the efficacy of the COVID vaccines in keeping people from catching the disease or requiring hospitalization. Climate alarmists have nothing to fear from so-called fact checkers in corporate or social media, because the “fact checkers” are either true believers themselves or fellow beneficiaries of the climate alarm gravy train.\"",
         "1"
        ],
        [
         "3",
         "3",
         "Aiden",
         "Aiden",
         "transphobic",
         "Derogatory term for a transgender man, based on the stereotype that \"Aiden\" (or similar sounding names e.g. Hayden, Jayden) is a popular choice of name among young trans men. This is sometimes joked about by trans people among themselves, but has been appropriated by TERFs.",
         "\"TRAs always need to get the last word in and need to use these dumb half-baked memes  😂I have better things to spend my time on lmao keep whining Aiden\"",
         "1"
        ],
        [
         "4",
         "4",
         "Judeo-Christian",
         "Judeo-Christian",
         "Islamophobic",
         "It might seem neighbourly, even pluralistic, to include Judaism in a declaration of purported Western values. But in reality this isn’t how the term has functioned, either historically or more recently. Instead, the phrase is used to exclude rather than include. Despite implying that Jews are part of this resurrection of Judeo-Christian values, Trump in no way intends a campaign to Make Hanukkah Great Again. His “Judeo-Christian values” are about protecting Christmas, and about protecting Christians – at the exclusion of others. “Judeo-Christian” is now most often used to draw a line between imagined Christian values and a perceived (but false) threat of Muslim immigration.Time and again, when Farage and Trump use the term, what they really imply is an “us-versus-them” division between the West and Islam. This is not about the inclusion of Jews in the values of these nations, then, but about the xenophobic exclusion of an “other”. Invoked in anti-immigration rhetoric with the goal of excluding Muslims, this phrase is actually used to scaffold a false narrative about Christians being persecuted, threatened or besieged, which gives motivation for the protection of “Judeo-Christian values”. In fact, Christians are not persecuted in the countries where Farage and Trump make their homes.",
         "\"We are stopping cold the attacks on Judeo-Christian values...You know, we're getting near that beautiful Christmas season that people don't talk about anymore. They don't use the word \"Christmas\" because it's not politically correct. You go to department stores, and they'll say, \"Happy New Year,\" and they'll say other things. And it will be red, they'll have it painted, but they don't say it. Well, guess what? We're saying \"Merry Christmas\" again.\"",
         "1"
        ],
        [
         "5",
         "5",
         "intact",
         "intact",
         "transphobic",
         "What they mean is have you had bottom surgery and if you haven’t, then you can’t possibly be trans and you must be faking it to gain access to vulnerable people. Even if you’ve had bottom surgery, they still won’t accept you as a man or a woman.An important side note here: having surgery or not doesn’t make you any less trans or nonbinary.",
         "\"Interesting seeing talk online about how extreme my position is from people defending a fully intact male taking women's swim medals and an aggressive man with a beard speaking about 'womanhood' at a herstory festival. I'm not sure I'm the one who's been radicalised.\"",
         "1"
        ],
        [
         "6",
         "6",
         "Kek",
         "Kek",
         "white supremacist",
         "The term \"Kek\" originates from World of Warcraft, where if someone from the Horde side typed \"lol\" in /say, Alliance players would instead see \"kek\". This is a further reference by Blizzard to the Korean language word for 'laugh' (or more literally, 'ha ha ha'), kekeke (ㅋㅋㅋ), commonly seen in Starcraft. Used the same way by 4chan, later leading to the discovery of an Egyptian deity by the same name who happened to be a frog, thus linking this to the Pepe meme. The superlative is \"topkek\" or \"top kek,\" which is also reference to a Turkish snack food. Kekistan is a fictional ethnicity that lets alt-righters use a Nazi flag as a \"meme\". It replaces the Nazi symbol with \"K\"s, and the Iron Cross with 4chan's logo. Kekistan was popularized in part by Sargon of Akkad.",
         "\"Kek\"",
         "1"
        ],
        [
         "7",
         "7",
         "groomers",
         "groomers",
         "anti-LGBTQ",
         "it’s a dog whistle to the party’s most extreme, conspiracy-minded base. The foundation of the QAnon conspiracy theory is that there is a mass, secret, underground ring of Satanic pedophiles whose members consist of Democratic leaders and Hollywood elites. Painting anyone who opposes Florida’s law (i.e., mainly Democrats) as being pro-grooming fits neatly into that narrative and winks at QAnon adherents without requiring politicians on the right to actually endorse the outlandish theory.But this rhetoric also harkens back to age-old attacks on the LGBTQ community. Casting LGBTQ people as child predators and their very existence as something inherently sexual was a tactic used by anti-LGBTQ activists since the 1970s in their efforts to stifle or roll back LGBTQ legal protections, according to Marie-Amélie George, a law professor at Wake Forest University who specializes in LGBTQ rights. George said that for a long time, many people believed that being gay was the result of child sexual abuse.",
         "\"I have bad news for all the groomers and enablers—By the time I am done reporting on these “all ages” and “family friendly” drag shows in TX, they’re going to be illegal, and there is nothing you can do about it.\"",
         "1"
        ],
        [
         "8",
         "8",
         "anointed",
         "anointed",
         "religious",
         "\"Anointed\" is a dog whistle term for speaking in tongues, name it and claim it, faith healing, and other fringe practices, intended to be understood by Pentecostals but not by the general public. It is a way of saying \"we believe in and practice the Pentecostal beliefs\" without openly admitting it.",
         "\"I have always believed that this anointed land was set apart in an uncommon way, that a divine plan placed this great continent here between the oceans to be found by people from every corner of the Earth who had a special love of faith and freedom. Our pioneers asked that He would work His will in our daily lives so America would be a land of morality, fairness, and freedom.\"",
         "1"
        ],
        [
         "9",
         "9",
         "windmill",
         "windmill",
         "white supremacist",
         "A windmill or sometimes \"windmill of friendship\" is a (usually ASCII or copypasted) swastika, typically as used on Reddit or gaming platforms such as Twitch or Steam",
         "\"What can I say, old german guys just wanna rule the world with their Windmill of friendship\"",
         "1"
        ],
        [
         "10",
         "10",
         "autogynephilia",
         "autogynephilia",
         "transphobic",
         "A pseudoscientific hypothesis that transgender women who aren't exclusively attracted to men are transitioning purely as a result of a fetish for being viewed as females. This theory, endorsed by J. Michael Bailey and most prevalent between the 1980s and early 2000s, has been recycled by TERFs to further their blatant transmisogyny.",
         "\"Trans rights activists have claimed that natal women commonly experience sexual excitement from the simple thought of being women as a way of “normalizing” this phenomenon in AGP men. Research shows autogynephilia is actually rare/nonexistent in women\"",
         "1"
        ],
        [
         "11",
         "11",
         "clownfish",
         "clownfish",
         "transphobic",
         "Clownfish are sequential hermaphrodites. This means that male-to-female sex changes are a natural part of their reproductive biology. Clownfish schools are led by a female. When this female dies, the dominant male changes sex and takes her place, becoming a fertile (i.e. egg-producing) female. TERF references to clownfish are intended to mock and otherize trans women, suggesting that the idea humans can change sex is absurd because humans are not fish. This also meshes with the Clown World dogwhistle.",
         "\"Things that, bizarrely, have to be said in 2022, thanks to Trans, Inc.:- Human beings aren't clownfish.- Lesbians don't like penises.- Men can't get pregnant.- Only women have a cervix.- It's wrong to mutilate children.Feel free to add to the list in replies.\"",
         "1"
        ],
        [
         "12",
         "12",
         "Durden",
         "Durden",
         "transphobic",
         "[Operation Google] transgender person",
         "\"America is in the throes of a cultural and political war over gender ideology, featuring high-profile conflicts over everything from school curricula to athletics to pronouns.  Durden\"",
         "1"
        ],
        [
         "13",
         "13",
         "nibba",
         "nibba",
         "racist",
         "Nibba is a euphemism for \"nigga\", which in turn is a euphemism for \"nigger\" because even \"nigga\" will get you in trouble on some social media. Some Nazis will even call each other nibba",
         "\"This isnt another \"dindu nuffin bang bang\" situation,if the media is reporting an explosive device was found, tell me the last time you heard a story where a hood nibba attempted to blow something up lmao\"",
         "1"
        ],
        [
         "14",
         "14",
         "Khazars",
         "Khazars",
         "antisemitic",
         "In the 6th century CE, the Khazars—an obscure warlike tribe in Turkistan [present day Kazakhstan]—fought for land that was ultimately overtaken by Southern Russia and Ukraine. Despite the decline in population and territorial defeat, the Khazars continued to be mentioned throughout history— especially as one of the first groups to adopt Judaism. By the 8th or 9th century, antisemitic conspiracy theories began forming around the Khazars’ reported conversion to Judaism. This spurred antisemitic beliefs that they were building a secret empire which sought widespread control through financial gains. Given that the Khazars moved into and settled in Eastern Europe, antisemites push the conspiracy that Ashkenzai Jews—Jews descending from Eastern Europe—are not “real Jews” and are working to infiltrate other nations on their quest for world domination (see “not the real Jews”). The Khazar trope is also used to undermine the Jewish connection to Israel, and therefore Israel’s right to exist, because it falsely says Jews originated from the northern Caucasus region and were part of the Turkic empire—and not the Land of Israel.",
         "\"JewsHebrewsIsraelitesAshkenazi 👀Khazars 👀👀You get “in trouble” for mentioning the last two. Well….. NOT ANYMORE! Time to study! Mask off! - Uncover every layer!Can you believe most of our leaders were called “Antisemitic” for pointing this out? 🙄 lol…. Pathetic\"",
         "1"
        ],
        [
         "15",
         "15",
         "kosherist",
         "kosherist",
         "antisemitic",
         "Kosherist is another term for Jews. It is used to try to evade keyword triggers. It is not strictly an evasion, as it has been used in ads for Kosher products",
         "\"This entire thread is a good goy joke. Azov and Right Sector are the Kosherist Kippa wearing joke \"Nazis\" who work for people named Nudelman and Kagan the world has ever seen.Russia will mop them up when the time is right.\"",
         "1"
        ],
        [
         "16",
         "16",
         "XX",
         "XX",
         "transphobic",
         "Represents the female chromosomes. TERFs will put the female chromosomes (XX) in their social media profiles to denote that they exclude trans and nonbinary people who identify as female or femme.",
         "\"I am a feminist. I know what a woman is. I fight for the rights of women and girls. Do you? #resistance #letwomenspeak #JKRowling #xx [Attached photo of person wearing cap that says \"XX\"]\"",
         "1"
        ],
        [
         "17",
         "17",
         "globalism",
         "globalism",
         "antisemitic",
         "A noteworthy anti-Semitic theme in 2017 was the use of the term “globalist” as an anti-Semitic slur. Although the term is not inherently anti-Semitic, “globalist” is often used as a pejorative term for people whose interests in international commerce or finance ostensibly make them disloyal to the country in which they live, or who are willing to undermine the financial security of their neighbors in order to benefit transnational interests. Because of the long history of anti-Semitic associations of Jews with money and commerce, and allegations that Jews place their transnational ethnic affiliations ahead of the interests of their non-Jewish neighbors, these pejorative subtexts quickly take on anti-Semitic connotations when the term is applied to individual Jews, groups of Jews, or places where Jews are known to live (i.e. “New York globalists”). Anti-Semites frequently use the term “Globalist” as a code word for Jews.",
         "\"Domestic manufacturing once supported millions of American men with good wages, who in turn started and supported families. Now that industry lies all but dead on the altar of globalism. \"",
         "1"
        ],
        [
         "18",
         "18",
         "womanface",
         "womanface",
         "transphobic",
         "An attempt to equate the existence of trans women to blackface; claiming that they treat womanhood as a \"costume\" while ignoring the oppression of \"actual women\".",
         "\"Dear @eddieizzard, it's perfectly fine to be a transvestite who likes to wear women's clothing, in fact we all thought you brave for doing so publicly and applauded you for it! What is NOT all right is claiming that this makes you an actual woman. It doesn't. It's #WomanFace\"",
         "1"
        ],
        [
         "19",
         "19",
         "based",
         "based",
         "white supremacist",
         "Based is an euphemism for someone or something that is considered to be authoritative, \"unbiased\", and redpilled. The alt-right generally describes anyone who promotes racism as \"based\". The term gained mainstream usage through Gamergate's descriptions of pro-Gamergate YouTubers as \"based\", although it was originally used by American rapper Lil B the \"BasedGod\" in a different context; he defined the term that denotes a lifestyle of positivity and tolerance, the complete opposite to the alt-right's appropriation of the phrase. Alt-righters often pair the term with the adjective cucked: something or someone that doesn't accept alt-right views.",
         "\"Steve 'Based' King Asks MSNBC: What Have Minorities Contributed To Civilization?\"",
         "1"
        ],
        [
         "20",
         "20",
         "jogger",
         "jogger",
         "racist",
         "Jogger started being used as a synonym for 'nigger' following the shooting of an unarmed African American jogger, Ahmaud Arbery, on February 23, 2020, allegedly by two white men, Travis McMichael and his father Gregory McMichael. 4chan attempted to appropriate the term and the action itself as a racist slur in May 2020 by referring to black people as \"joggers\" in an offensive manner.",
         "\"Many say the looting is just Joggers wanting free stuff.I think there's an explicit, revolutionary, anti-White nature.Essentially they're saying, \"what's yours, White man, is now mine. Your rules? We won't follow.\"The looting is political. Just has nothing to do w/ FIoyd.\"",
         "1"
        ],
        [
         "21",
         "21",
         "shoah",
         "shoah",
         "antisemitic",
         "Shoah (\"catastrophe\" or \"calamity\") is the Hebrew term used since the 1940s to describe the Holocaust. Alt-right website The Right Stuff has a podcast called The Daily Shoah, its name being both a play on The Daily Show and a deliberately offensive reference to the Holocaust. In alt-right circles, shoahed or shoah'd essentially means \"shut down\", and usually refers to the suspension of an alt-righter's social media account.",
         "\"This flame 🔥is a tribute to all the #AltRight accounts that #Twitter has ruthlessly shoah'd in its war against free speech.\"",
         "1"
        ],
        [
         "22",
         "22",
         "Rothschilds",
         "Rothschilds",
         "antisemitic",
         "A longstanding anti-Semitic conspiracy theory posits that a cabal of Jews led by members of the Rothschild banking family have been manipulating currency and exerting influence on regional and national events since the early 19th century for the purposes of personal enrichment and/or world domination. Anti-Semitic conspiracy theorists claim that the Rothschilds interfered with the American Revolution, financed Nazism and/or the Bolshevik Revolution, perpetrated the 9/11 attacks, and created the state of Israel. They also allege that the Rothschilds are some of the chief architects of an impending “New World Order” which will abolish nationalities and enslave humanity.",
         "\"As there are now over 70 people confirmed dead and over 1,000 missing, the fires in CA are a horrific tragedy. I’m praying for all involved! I’m posting this in speculation because there are too many coincidences to ignore… I find it very interesting that Roger Kimmel on the board of directors of PG&E is also Vice Chairman of Rothschild Inc, an international investment banking firm. I also find interesting the long history of financial contributions that PG&E has made to Jerry Brown over the years and millions spent in lobbying…Space solar generators collect the suns energy and then beam it back to Earth to a transmitter to convert to electricity. The idea is clean energy to replace coal and oil. If they are beaming the suns energy back to Earth, I’m sure they wouldn’t ever miss a transmitter receiving station right??!! I mean mistakes are never made when anything new is invented. What would that look like anyway? A laser beam or light beam coming down to Earth I guess. Could that cause a fire? Hmmm, I don’t know. I hope not!  That wouldn’t look so good for PG&E, Rothschild Inc, Solaren, Or Jerry Brown….Seems like there’s a lot of connected people in this crowd. And with these space solar generators, I really hope they have very good aim beaming the suns power down to Earth…\"",
         "1"
        ],
        [
         "23",
         "23",
         "alt-right",
         "alt-right",
         "white supremacist",
         "Enough already. Much of the contemporary conversation has adopted this new epitaph for the extreme right. But this is merely calling an old threat a new, slightly distracting name – and therefore possibly distorting or diluting the impact. Words matter. And so does clarity. As much as people are saying \"call it by its name\" about the controversial actions by extremists, we should keep this conversation clear and call these actors by their name. Avoid using \"alt-right\" and eliminate any confusion by calling them \"white supremacists\" or \"racists\" or \"neo-Nazis\" or \"extreme right.",
         "\"Mike Enoch just got banned from Twitter after getting retweeted by@AnnCoulter. I got wiped from Facebook this weekend.Timing is very important.The Alt-Right is being recognized as THE grounded, authentic anti-war movement in the U.S.For our enemies, that's unacceptable.\"",
         "1"
        ],
        [
         "24",
         "24",
         "bop",
         "bop",
         "white supremacist",
         "Bop was popularized as a cutesy term on the Fren World subreddit, meaning to hit, but quickly became used in the barely-covert alt-right Fren memes as a euphemism for 'attack' or 'kill', particularly in the phrase bop the non-frens. When Fren subs began to be banned by Reddit, \"bopped\" also became a common term to describe a post, user, or subreddit being banned.",
         "\"Calling all frens! we have to bop the non-frens and clowns! they are invadin our home:(\"",
         "1"
        ],
        [
         "25",
         "25",
         "womyn",
         "womyn",
         "transphobic",
         "Alternative spellings of \"woman\"/\"women\" used to avoid ending the word with \"-man\". Historically, these terms have been used in wider feminist discourse. However, they are now used mostly by TERFs (since the 2010s). The term \"wombyn\" deliberately puts more emphasis on the uterus (primary organ involved in pregnancy); it is purposefully trans-exclusionary and used by TERFs since trans women are unable to become pregnant even post-transition.",
         "\"Now that we’re talking about abortion, suddenly it’s about women’s rights… not womxn’s rights… suddenly it’s not about birthing persons… suddenly men can’t get pregnant. Suddenly it’s about men vs. women. What happened to all the female larping and appropriating of womanhood?\"",
         "1"
        ],
        [
         "26",
         "26",
         "genderfree",
         "genderfree",
         "transphobic",
         "A euphemism that TERFs have started using to describe themselves, implying that gender is a set of stereotypes, should not matter, and the only thing that matters is sex assigned at birth.",
         "\"I am also joining the hordes coming out as #genderfree. For too long we have been oppressed with society’s sexist norms and values. Don’t you dare question my identity or my existence.\"",
         "1"
        ],
        [
         "27",
         "27",
         "TRAs",
         "TRAs",
         "transphobic",
         "A person who supports the transgender rights movement. TERFs pretty much use this term indiscriminately. In TERF logic, one is a \"TRA\" whether one occasionally expresses support for trans rights or whether one has devoted one's life and/or social media presence to the cause. The acronym was deliberately chosen to sound like \"MRA\" in an attempt to draw a false equivalence between trans-rights activism and the genuinely misogynistic and anti-feminist men's rights movement.",
         "\"Every day more women are joining the fight for women’s rights, a reality it seems the TRAs never really planned for.But women of every political affiliation, religion, race & culture care about our own rights & every single one of us deserves them.Here’s to winning in 2023 💗\"",
         "1"
        ],
        [
         "28",
         "28",
         "#Milk",
         "#Milk",
         "white supremacist",
         "For members of the far-right, dairy milk represents strength of body and ties into their ideas of masculinity. Conversely, soy and other forms of milk have come to symbolize weakness and effeminacy. In our analysis, we found that milk has been used as a thinly veiled allegory for racial purity. Several prominant figures from the white supremacist movement including Richard Spencer added milk bottle emojis to their Twitter profiles. The hashtags #MilkTwitter embraced and celebrated traditional gender norms and white-dominated patriarchy, while making fun of multiculturalism and feminism. Scholars such as Freeman (2013) contend that the contemporary white supremacist movement appropriated the long association of milk with the intellect. She points out that since the consumption of liberal amounts of milk and its products are associated with having a scientific mind and excelling in other intellectual activities, white supremacists appropriated it to convey their superiority among the racial groups.",
         "\"I'm very proud of my mutant power of digesting lactose well into adulthood thank you very much. #MilkTwitter #DownWithTheVeganAgenda 🥛\"",
         "1"
        ],
        [
         "29",
         "29",
         "octopus",
         "octopus",
         "antisemitic",
         "The Octopus is a common antisemitic image found in anti-Jewish images and cartoons, representing the antisemitic canard of Jewish control. In 1903, the antisemitic forgery, The Protocols of the Elders of Zion, alleged, among many other falsities, that Jewish leaders were conspiring to control the world, including global politics, the world economy, and the media. The image of an octopus, with its tentacles wrapped around the world, or penetrating the globe, is an antisemitic representation of this canard.",
         "\"Like an octopus. [Commend added to shared link for article headlined \"Flashback: George Soros Financed Hillary Clinton's Recount Lawyer Marc Elias\"] \"",
         "1"
        ],
        [
         "30",
         "30",
         "23/16",
         "23/16",
         "white supremacist",
         "For WP=White Power, based on letter position in the alphabet, similar to 88=HH. Sometimes also 16/23, which as well as being a transparent disguise, also relates to \"peckerwood\", formerly black slang for whites now used as self-identification by white supremacists",
         "\"🤣🤣🤣hoe is right get ready for them too rule the 25th amendment soon though they're trying to always pull the wool over our eyes but we see the real truth he's liberaltards  Oi Oi 1488 & 2316\"",
         "1"
        ],
        [
         "31",
         "31",
         "COIN",
         "COIN",
         "transphobic",
         "Stands for \"Co-Opting Intersex Narratives.\" This term was initially used in intersex communities to criticise others who falsely equate being trans with being intersex or claim to be intersex when they have not been diagnosed. Subsequently, TERFs hijacked it and now use it to accuse all trans people of being liars and appropriating intersex people's struggles.",
         "\"This is getting perilously close to \"COINing\", aka \"Co-opting Intersex Narratives\", aka trying to use the health issues of people with Disorders of Sexual Development to bash women-who-stand-up-for-themselves over the head.\"",
         "1"
        ],
        [
         "32",
         "32",
         "steroids",
         "steroids",
         "transphobic",
         "A term used for hormone therapy taken by trans people (since steroids feminize a male body and vice versa), to make it sound like trans people are drug abusers and / or cheating in sports.",
         "\"TRANSGENDER BOYS DOMINATE HIGH SCHOOL GIRLS AT STATE TRACK MEET...In professional sports, performance enhancing drugs are illegal. Lets be serious, a transgender boy is like a girl on steroids and should be banned...  Don't you think?\"",
         "1"
        ],
        [
         "33",
         "33",
         "fren",
         "fren",
         "white supremacist",
         "Fren is a corruption of the word \"friend\". It is a dog whistle used by a subsection of the alt-right, commonly found on the r/FrenWorld subreddit on Reddit. The idea is to talk like a small child or intellectually disabled person whilst still talking about general alt-right bigotry, the pattern of which emerged with the aforementioned Apu Apustaja meme.Closely connected to the honkler/Clown World memes; the Honkler and other Pepes can be seen in many of their memes. After the CringeAnarchy subreddit was shut down when the moderators refused to delete posts calling for genocide, many users migrated to the r/FrenWorld,which was itself shut down in June 2019. This word is also used by fans of the band Twenty One Pilots, so check context.",
         "\"I was trying to take a Twitter break but how can I when Nick Fuentes is now best frens with the greatest artist of all time Ye (AKA Kanye West)??? This is the biggest groyper W times 6 million‼️\"",
         "1"
        ],
        [
         "34",
         "34",
         "Islamists",
         "Islamists",
         "Islamophobic",
         "[see radical Islam]",
         "\"The radical islamists have 1.3 or more billion muslims to work with. Now they aren't all supporters. Daniel (inaudible) says 10-15% of them, but that is a huge population to draw from. They are all over the world. They're certainly in the United States. They're recruiting fighters for ISIS right out of Minneapolis out of the Somali enclave. And that's going on in other parts of the country too…So they have a network that they flow in. And it isn't that all muslims are a supporter of ISIS but the network that flows through the mosques is certainly the communications centers. We ought to be looking at this dot to dot. And we ought to have people in those mosques watching to see what's going on.\"",
         "1"
        ],
        [
         "35",
         "35",
         "coincidence",
         "coincidence",
         "antisemitic",
         "Take the use of the word \"coincidence\" as a dog whistle. In the recent kerfuffle over the \"Coincidence Detector\" app, many news readers learned that internet anti-Semites use \"coincidence\" to mean, roughly, a Jewish conspiracy. Until the story broke, this subculture could go around calling people and events \"coincidences\" with impunity – pointing to an anti-Trump article by a Jewish author, for example — maybe confusing readers who didn’t share their views, but not raising any hackles.",
         "\"Just a positively spectacular coincidence that@SECGov gives every broker-dealer a last call warning to shore their shit up for margin call mayhem 3 days before@GameStop earnings.#GME #NothingToSeeHere #Cohencidence\"",
         "1"
        ],
        [
         "36",
         "36",
         "magapede",
         "magapede",
         "white supremacist",
         "Magapede was used primarily on boards like 8chan /pol/. It refers to Trump supporters who do not subscribe to antisemitic or racist views. It is similar to cuckservative.",
         "\"Extremely MAGApede voice: “If Harvey Milk were alive today, he’d be a Trump supporter!”\"",
         "1"
        ],
        [
         "37",
         "37",
         "Reagan",
         "Reagan",
         "white supremacist",
         "[Operation Google] a conservative",
         "\"I hate the Skittle ideology of waging skittle-jihad on Reagans, A Leppos, Fishbuckets! The car salesmen love to choke on Skittles and Google\"",
         "1"
        ],
        [
         "38",
         "38",
         "Zioworld",
         "Zioworld",
         "antisemitic",
         "Zioworld is shorthand for the Zionist Occupation Government and the antisemitic interpretation of the one world government conspiracy.",
         "\"ZioWorld Bankers.Their days are numbered. Liars deceivers and thieves have the upper hand until they have shit on everyone . No hiding now.\"",
         "1"
        ],
        [
         "39",
         "39",
         "#GenderWooWoo",
         "#GenderWooWoo",
         "transphobic",
         "A reactionary term, which gained traction in mid-late 2020, that mocks the concept of gender as well as transgender people (who support gender)- but not trans-exclusionary pseudoscience and denial of scientific evidence that directly contradicts the classic transphobic narrative that, in the reactionaries' view, \"transgenders just want to escape biological [sic] reality\" (like brain similarities between trans women and cis women for example). Because apparently, promoting anti-scientific attitudes and conspiracy theories is only bad if trans people and their allies are (allegedly) doing it.",
         "\"So it’s #GenderWooWoo day and I’d like to share Kylie who pretended to be pregnant then pretended to have a stillbirth. Then tried to raise money for a doll to help him grieve. He was in a pg & birth group where women supported him & some were thrown out for telling the truth.\"",
         "1"
        ],
        [
         "40",
         "40",
         "thug",
         "thug",
         "racist",
         "By its technical definition, \"thug\" is supposed to refer to a violent person or a criminal. But over time, it has been used so often to refer to black people that it began to carry its own connotation — the racist idea that black people are criminals or violent.Take, for instance, the Baltimore protests. Were all the protesters in Baltimore, who were demonstrating against Freddie Gray's death in the hands of police, rioting and looting? No, but they were broadly labeled as such, even by the mayor and the president.In comparison, one does not see the same kind of labeling with white rioters, which media outlets like CNN have labeled as, for example, \"rowdy\" in past instances.As these kinds of contrasts present themselves in media, it becomes clear that the word \"thug\" is used to describe not merely criminal or violent behavior, but behavior from black men in particular.",
         "\"That is not a protest.  That is not a statement.  It’s people -- a handful of people taking advantage of a situation for their own purposes, and they need to be treated as criminals...My understanding is, is you’ve got some of the same organizers now going back into these communities to try to clean up in the aftermath of a handful of criminals and thugs who tore up the place.  What they were doing, what those community leaders and clergy and others were doing, that is a statement.  That’s the kind of organizing that needs to take place if we’re going to tackle this problem.\"",
         "1"
        ],
        [
         "41",
         "41",
         "majority-minority",
         "majority-minority",
         "racist",
         "This is certainly less veiled than many of the extreme right's verbiage, as it speaks to the demographic shift that America is projected to see in the next century, as Caucasian populations decline in proportion. But it's the extent that this is a threat to be actively fought and defended against that makes it a dog whistle and call to action.",
         "\"After 30 years of multiculturalism, the bonds of racial solidarity trump the bonds of national solidarity. Democrats have a very strong story to tell about what we owe the victims of racism and oppression. They do not have a strong story to tell about what we owe to other Americans, how we define our national borders and what binds us as Americans.Here’s the central challenge of our age: Over the next few decades, America will become a majority-minority country. It is hard to think of other major nations, down through history, that have managed such a transition and still held together.\"",
         "1"
        ],
        [
         "42",
         "42",
         "Illuminati",
         "Illuminati",
         "antisemitic",
         "Historically, the Order of the Illuminati refers to a secret society founded in Bavaria by Adam Weishaupt in the late 18th to advocate for secularism. However, during the interwar period of the 20th century, fascist propaganda claimed the Illuminati were a subversive element which served Jewish elites who were behind global capitalism and Soviet communism (see Jewish capitalist, Jewish communist) and were plotting to create a New World Order (see New World Order). This conspiratorial stance on the Illuminati, as well as its related conspiracy theory of Freemason-controlling Jews, are built on classic antisemitic themes, including the notion of Jewish control over the world, the meddling by Jews in global politics, and the Jewish plot for complete power over world governance (see control).",
         "\"This motion also sets aside, in a new parliamentary Session, the Standing Orders that apply in relation to the presentation of private Members’ Bills. The motion would allow a designated Member—or a few of the Illuminati who are taking the powers to themselves—to give notice of the presentation of this Bill on the first day of a new Session and then provide time for debate on this Bill on the second day of the new Session, interrupting the Queen’s Speech debate.\"",
         "1"
        ],
        [
         "43",
         "43",
         "Google",
         "Google",
         "racist",
         "[Operation Google] a black person",
         "\"Kill the Googles, gas the Skypes.\"",
         "1"
        ],
        [
         "44",
         "44",
         "Pajeet",
         "Pajeet",
         "anti-Asian",
         "Pajeet is a slur, often used by the alt-right to mock Indians. The word is derived from paaji (elder brother in Punjabi) + generic Punjabi name (Sanjeet, Manjeet etc). It is almost always used with \"jokes\" about how Indians defecate in the open, citing out-of-date UNICEF statistics. \"Designated shitting streets\" and \"Poo in loo\" are variants of this, the former mocking a supposedly Indian user \"defending\" cases of open defecation, the latter mocking a comically titled UNICEF video intended to raise awareness on the matter. The term is also used by the Indian alt-right.",
         "\"ah jeez the tiny dicked pajeet micro cap pump & dumper blocked me for making fun of his baby pips tutorialhow am i gonna know which micro cap turbo moons on 0.1 eth liquidity next ?\"",
         "1"
        ],
        [
         "45",
         "45",
         "Boogaloo",
         "Boogaloo",
         "white supremacist",
         "Boogaloo, boogalo, boog, and big igloo are code words for a rebellion against perceived tyranny, but often used as a cover for (Or misinterpreted as) a race war and the second American Civil War. The term boogaloo is derived from the 1984 movie Breakin' 2: Electric Boogaloo which is a commonly used phrase online to indicate any sort of sequel, particularly a poor quality one. Big igloo is a derivative synonym that refers to boogaloo  and probably to the \"big tent\" idea of inclusiveness (but for white people since igloos are white), but more likely as a way of evading attempts at moderation. In search of further homophone-ish phrases for their shitposting, this term further morphed into the phrase big luau online, as a reference to the unusually high number of \"Boogaloo Boys\" posting images wearing Hawaiian shirts. This led to a bizarre situation during lockdown protests regarding the 2019-20 COVID-19 outbreak, where many of the far-right extremists that attended showed their devotion to white supremacy by (in reference to the luau) dressing in Hawaiian shirts.",
         "\"New sponsor: Acre Gold. Monthly gold subscription service. So when the big igloo happens and cash is useless, I can still buy guns and ammo for my roaming bandit gang. (Link below)\"",
         "1"
        ],
        [
         "46",
         "46",
         "hygienic",
         "hygienic",
         "transphobic",
         "A dog whistle used by TERFs on Tumblr as a replacement for \"cis\", usually in coded phrases like \"hygienic female,\" \"extremely hygienic,\" etc. The implication is that cis women are cleaner than trans women, playing on the stereotype that men have worse personal hygiene than women. TERFs of course view trans women as men. It's also based on a pathologization of transfeminine bottom surgery. TERFs are morbidly fixated on a form of vaginoplasty sometimes used in gender-confirmation surgery. This procedure involves colon tissue grafts, as this allows the vagina to be self-lubricating. TERFs are convinced that all trans women undergo this procedure, and thus that their vaginas must be smelly and gross. It's also been noted that the term \"hygienic\" has an extremely problematic history.",
         "\"I’m sure the older people, especially Alzheimer’s sufferers, will be thrilled to have this technicolour berk waving his pronouns & proclivities in their faces.Rather know whether he has had the Covid vaccine tbh.Functional, not to mention hygienic, uniforms in work surely?\"",
         "1"
        ],
        [
         "47",
         "47",
         "cabal",
         "cabal",
         "antisemitic",
         "A small, powerful group that seeks to establish control.Jews have long been accused of being part of a secret group that controls the economic and political world order. The term cabal originates from the word kabbalah, the Jewish mystical interpretation of the Hebrew Bible. Often denoted as “Jewish cabal” on social media, it is a dog whistle for Jewish control.Several antisemitic publications and conspiracy theories capitalize on this imagery of a conniving cohort, such as the Protocols of the Elders of Zion or the New World Order theory which is based on the idea that Jews have formed a power structure in which they control the media, economy, and politics.",
         "\"I can no longer remain in today’s Democratic Party that is now under the complete control of an elitist cabal of warmongers driven by cowardly wokeness, who divide us by racializing every issue & stoke anti-white racism, actively work to undermine our God-given freedoms, are…\"",
         "1"
        ],
        [
         "48",
         "48",
         "gibsmedat",
         "gibsmedat",
         "racist",
         "Gibsmedat is a mocking term for African Americans, as an attempted imitation of someone speaking an archaic form of African American Vernacular English, that was used in Uncle Tom's Cabin (1852), saying, \"Give me that.\" Used to imply that black people are dependent on government largesse, have a strong sense of entitlement, and/or are inclined to robbery and theft. Sometimes government benefits are derivatively referred to as gibs.",
         "\"Das Kapital in a Nutshell. [Following text superimposed on image of Karl Marx] \"Gib me dat for free -Hungry Santa\"\"",
         "1"
        ],
        [
         "49",
         "49",
         "identitarianism",
         "identitarianism",
         "white supremacist",
         "Identitarianism is a synonym for Nazism that sounds less Nazi-like. From the main Wikipedia page for \"identitarianism\":The Identitarian movement or Identitarianism is a pan-European nationalist, far-right political ideology asserting the right of European ethnic groups and white peoples to Western culture and territories claimed to belong exclusively to them. Originating in France as Les Identitaires (\"The Identitarians\"), with its youth wing Generation Identity, the movement expanded to other European countries during the early 21st century. Building on ontological ideas of the German Conservative Revolution, its ideology was formulated from the 1960s onward by essayists such as Alain de Benoist, Dominique Venner, Guillaume Faye and Renaud Camus, who are considered the main ideological sources of the movement.Identitarians promote concepts such as pan-European nationalism, localism, ethnopluralism, remigration, or the Great Replacement, and they are generally opposed to globalisation, multiculturalism, Islamization and extra-European immigration. Influenced by New Right metapolitics, they do not seek direct electoral results, but rather to provoke long-term social transformations and eventually achieve cultural hegemony and popular adhesion to their ideas.",
         "\"The reaction to my latest video is baffling. There are apparently hundreds of MAGApedes who have been following me for years who have only just worked out I am an identitarian.\"",
         "1"
        ]
       ],
       "shape": {
        "columns": 7,
        "rows": 101
       }
      },
      "text/html": [
       "<div>\n",
       "<style scoped>\n",
       "    .dataframe tbody tr th:only-of-type {\n",
       "        vertical-align: middle;\n",
       "    }\n",
       "\n",
       "    .dataframe tbody tr th {\n",
       "        vertical-align: top;\n",
       "    }\n",
       "\n",
       "    .dataframe thead th {\n",
       "        text-align: right;\n",
       "    }\n",
       "</style>\n",
       "<table border=\"1\" class=\"dataframe\">\n",
       "  <thead>\n",
       "    <tr style=\"text-align: right;\">\n",
       "      <th></th>\n",
       "      <th>idx</th>\n",
       "      <th>dog_whistle</th>\n",
       "      <th>dog_whistle_root</th>\n",
       "      <th>ingroup</th>\n",
       "      <th>definition</th>\n",
       "      <th>example</th>\n",
       "      <th>label</th>\n",
       "    </tr>\n",
       "  </thead>\n",
       "  <tbody>\n",
       "    <tr>\n",
       "      <th>0</th>\n",
       "      <td>0</td>\n",
       "      <td>YWNBAW</td>\n",
       "      <td>YWNBAW</td>\n",
       "      <td>transphobic</td>\n",
       "      <td>You Will Never Be A Woman (YWNBAW) is an alt-r...</td>\n",
       "      <td>\"Might I suggest you reach out to YWNBAW? Very...</td>\n",
       "      <td>1</td>\n",
       "    </tr>\n",
       "    <tr>\n",
       "      <th>1</th>\n",
       "      <td>1</td>\n",
       "      <td>109</td>\n",
       "      <td>109</td>\n",
       "      <td>antisemitic</td>\n",
       "      <td>109 stands for the 109 locations that Jews wer...</td>\n",
       "      <td>\"\"Wow 109 countries,  and they consider us as ...</td>\n",
       "      <td>1</td>\n",
       "    </tr>\n",
       "    <tr>\n",
       "      <th>2</th>\n",
       "      <td>2</td>\n",
       "      <td>alarmist</td>\n",
       "      <td>alarmist</td>\n",
       "      <td>climate change denier</td>\n",
       "      <td>\"Alarmist\" is a common global warming denialis...</td>\n",
       "      <td>\"A mountain of evidence shows climate alarmist...</td>\n",
       "      <td>1</td>\n",
       "    </tr>\n",
       "    <tr>\n",
       "      <th>3</th>\n",
       "      <td>3</td>\n",
       "      <td>Aiden</td>\n",
       "      <td>Aiden</td>\n",
       "      <td>transphobic</td>\n",
       "      <td>Derogatory term for a transgender man, based o...</td>\n",
       "      <td>\"TRAs always need to get the last word in and ...</td>\n",
       "      <td>1</td>\n",
       "    </tr>\n",
       "    <tr>\n",
       "      <th>4</th>\n",
       "      <td>4</td>\n",
       "      <td>Judeo-Christian</td>\n",
       "      <td>Judeo-Christian</td>\n",
       "      <td>Islamophobic</td>\n",
       "      <td>It might seem neighbourly, even pluralistic, t...</td>\n",
       "      <td>\"We are stopping cold the attacks on Judeo-Chr...</td>\n",
       "      <td>1</td>\n",
       "    </tr>\n",
       "    <tr>\n",
       "      <th>...</th>\n",
       "      <td>...</td>\n",
       "      <td>...</td>\n",
       "      <td>...</td>\n",
       "      <td>...</td>\n",
       "      <td>...</td>\n",
       "      <td>...</td>\n",
       "      <td>...</td>\n",
       "    </tr>\n",
       "    <tr>\n",
       "      <th>96</th>\n",
       "      <td>96</td>\n",
       "      <td>norm20</td>\n",
       "      <td>None</td>\n",
       "      <td>None</td>\n",
       "      <td>None</td>\n",
       "      <td>As the plane accelerates, we feel like we’re b...</td>\n",
       "      <td>0</td>\n",
       "    </tr>\n",
       "    <tr>\n",
       "      <th>97</th>\n",
       "      <td>97</td>\n",
       "      <td>norm21</td>\n",
       "      <td>None</td>\n",
       "      <td>None</td>\n",
       "      <td>None</td>\n",
       "      <td>Depending on the type of bomb, weapon safety r...</td>\n",
       "      <td>0</td>\n",
       "    </tr>\n",
       "    <tr>\n",
       "      <th>98</th>\n",
       "      <td>98</td>\n",
       "      <td>norm22</td>\n",
       "      <td>None</td>\n",
       "      <td>None</td>\n",
       "      <td>None</td>\n",
       "      <td>and to ad on, even humans don't die of \"old ag...</td>\n",
       "      <td>0</td>\n",
       "    </tr>\n",
       "    <tr>\n",
       "      <th>99</th>\n",
       "      <td>99</td>\n",
       "      <td>norm23</td>\n",
       "      <td>None</td>\n",
       "      <td>None</td>\n",
       "      <td>None</td>\n",
       "      <td>I just don't like it anymore. I lived in Wisco...</td>\n",
       "      <td>0</td>\n",
       "    </tr>\n",
       "    <tr>\n",
       "      <th>100</th>\n",
       "      <td>100</td>\n",
       "      <td>norm24</td>\n",
       "      <td>None</td>\n",
       "      <td>None</td>\n",
       "      <td>None</td>\n",
       "      <td>The main technical difficulty in producing a n...</td>\n",
       "      <td>0</td>\n",
       "    </tr>\n",
       "  </tbody>\n",
       "</table>\n",
       "<p>101 rows × 7 columns</p>\n",
       "</div>"
      ],
      "text/plain": [
       "     idx      dog_whistle dog_whistle_root                ingroup  \\\n",
       "0      0           YWNBAW           YWNBAW            transphobic   \n",
       "1      1              109              109            antisemitic   \n",
       "2      2         alarmist         alarmist  climate change denier   \n",
       "3      3            Aiden            Aiden            transphobic   \n",
       "4      4  Judeo-Christian  Judeo-Christian           Islamophobic   \n",
       "..   ...              ...              ...                    ...   \n",
       "96    96           norm20             None                   None   \n",
       "97    97           norm21             None                   None   \n",
       "98    98           norm22             None                   None   \n",
       "99    99           norm23             None                   None   \n",
       "100  100           norm24             None                   None   \n",
       "\n",
       "                                            definition  \\\n",
       "0    You Will Never Be A Woman (YWNBAW) is an alt-r...   \n",
       "1    109 stands for the 109 locations that Jews wer...   \n",
       "2    \"Alarmist\" is a common global warming denialis...   \n",
       "3    Derogatory term for a transgender man, based o...   \n",
       "4    It might seem neighbourly, even pluralistic, t...   \n",
       "..                                                 ...   \n",
       "96                                                None   \n",
       "97                                                None   \n",
       "98                                                None   \n",
       "99                                                None   \n",
       "100                                               None   \n",
       "\n",
       "                                               example  label  \n",
       "0    \"Might I suggest you reach out to YWNBAW? Very...      1  \n",
       "1    \"\"Wow 109 countries,  and they consider us as ...      1  \n",
       "2    \"A mountain of evidence shows climate alarmist...      1  \n",
       "3    \"TRAs always need to get the last word in and ...      1  \n",
       "4    \"We are stopping cold the attacks on Judeo-Chr...      1  \n",
       "..                                                 ...    ...  \n",
       "96   As the plane accelerates, we feel like we’re b...      0  \n",
       "97   Depending on the type of bomb, weapon safety r...      0  \n",
       "98   and to ad on, even humans don't die of \"old ag...      0  \n",
       "99   I just don't like it anymore. I lived in Wisco...      0  \n",
       "100  The main technical difficulty in producing a n...      0  \n",
       "\n",
       "[101 rows x 7 columns]"
      ]
     },
     "execution_count": 18,
     "metadata": {},
     "output_type": "execute_result"
    }
   ],
   "source": [
    "# load silent signal detection\n",
    "mixed_dataset = load_dataset(\"SALT-NLP/silent_signals_detection\", split=\"train\")\n",
    "mixed_df = pd.DataFrame(mixed_dataset)\n",
    "mixed_df['label'] = mixed_df['label'].map({\"coded\":1,\"non-coded\":0})\n",
    "mixed_df"
   ]
  },
  {
   "cell_type": "markdown",
   "id": "d6a463c8",
   "metadata": {},
   "source": [
    "# Logistic Regression using PREDICT"
   ]
  },
  {
   "cell_type": "code",
   "execution_count": null,
   "id": "fac89606",
   "metadata": {},
   "outputs": [
    {
     "ename": "RuntimeError",
     "evalue": "Numpy is not available",
     "output_type": "error",
     "traceback": [
      "\u001b[31m---------------------------------------------------------------------------\u001b[39m",
      "\u001b[31mRuntimeError\u001b[39m                              Traceback (most recent call last)",
      "\u001b[36mCell\u001b[39m\u001b[36m \u001b[39m\u001b[32mIn[22]\u001b[39m\u001b[32m, line 15\u001b[39m\n\u001b[32m     13\u001b[39m     tox_score = get_toxic_score(text)\n\u001b[32m     14\u001b[39m     keywords_yake = extract_keywords_yake(text)\n\u001b[32m---> \u001b[39m\u001b[32m15\u001b[39m     keywords_kb = \u001b[43mextract_keywords_keybert\u001b[49m\u001b[43m(\u001b[49m\u001b[43mtext\u001b[49m\u001b[43m)\u001b[49m\n\u001b[32m     17\u001b[39m     feature_rows.append({\n\u001b[32m     18\u001b[39m         \u001b[33m\"\u001b[39m\u001b[33mtoxicity_score\u001b[39m\u001b[33m\"\u001b[39m: tox_score,\n\u001b[32m     19\u001b[39m         \u001b[33m\"\u001b[39m\u001b[33mnum_keywords_yake\u001b[39m\u001b[33m\"\u001b[39m: \u001b[38;5;28mlen\u001b[39m(keywords_yake),\n\u001b[32m   (...)\u001b[39m\u001b[32m     22\u001b[39m         \u001b[33m\"\u001b[39m\u001b[33mlabel\u001b[39m\u001b[33m\"\u001b[39m: label\n\u001b[32m     23\u001b[39m     })\n\u001b[32m     25\u001b[39m features_df = pd.DataFrame(feature_rows)\n",
      "\u001b[36mCell\u001b[39m\u001b[36m \u001b[39m\u001b[32mIn[17]\u001b[39m\u001b[32m, line 30\u001b[39m, in \u001b[36mextract_keywords_keybert\u001b[39m\u001b[34m(text)\u001b[39m\n\u001b[32m     29\u001b[39m \u001b[38;5;28;01mdef\u001b[39;00m\u001b[38;5;250m \u001b[39m\u001b[34mextract_keywords_keybert\u001b[39m(text):\n\u001b[32m---> \u001b[39m\u001b[32m30\u001b[39m     \u001b[38;5;28;01mreturn\u001b[39;00m [kw \u001b[38;5;28;01mfor\u001b[39;00m kw, _ \u001b[38;5;129;01min\u001b[39;00m \u001b[43mkw_extractor_kb\u001b[49m\u001b[43m.\u001b[49m\u001b[43mextract_keywords\u001b[49m\u001b[43m(\u001b[49m\u001b[43mtext\u001b[49m\u001b[43m,\u001b[49m\u001b[43m \u001b[49m\u001b[43mtop_n\u001b[49m\u001b[43m=\u001b[49m\u001b[32;43m5\u001b[39;49m\u001b[43m)\u001b[49m]\n",
      "\u001b[36mFile \u001b[39m\u001b[32m~/MSDS/deeplearning_dogwhistle_project/.venv/lib/python3.11/site-packages/keybert/_model.py:197\u001b[39m, in \u001b[36mKeyBERT.extract_keywords\u001b[39m\u001b[34m(self, docs, candidates, keyphrase_ngram_range, stop_words, top_n, min_df, use_maxsum, use_mmr, diversity, nr_candidates, vectorizer, highlight, seed_keywords, doc_embeddings, word_embeddings, threshold)\u001b[39m\n\u001b[32m    195\u001b[39m \u001b[38;5;66;03m# Extract embeddings\u001b[39;00m\n\u001b[32m    196\u001b[39m \u001b[38;5;28;01mif\u001b[39;00m doc_embeddings \u001b[38;5;129;01mis\u001b[39;00m \u001b[38;5;28;01mNone\u001b[39;00m:\n\u001b[32m--> \u001b[39m\u001b[32m197\u001b[39m     doc_embeddings = \u001b[38;5;28;43mself\u001b[39;49m\u001b[43m.\u001b[49m\u001b[43mmodel\u001b[49m\u001b[43m.\u001b[49m\u001b[43membed\u001b[49m\u001b[43m(\u001b[49m\u001b[43mdocs\u001b[49m\u001b[43m)\u001b[49m\n\u001b[32m    198\u001b[39m \u001b[38;5;28;01mif\u001b[39;00m word_embeddings \u001b[38;5;129;01mis\u001b[39;00m \u001b[38;5;28;01mNone\u001b[39;00m:\n\u001b[32m    199\u001b[39m     word_embeddings = \u001b[38;5;28mself\u001b[39m.model.embed(words)\n",
      "\u001b[36mFile \u001b[39m\u001b[32m~/MSDS/deeplearning_dogwhistle_project/.venv/lib/python3.11/site-packages/keybert/backend/_sentencetransformers.py:65\u001b[39m, in \u001b[36mSentenceTransformerBackend.embed\u001b[39m\u001b[34m(self, documents, verbose)\u001b[39m\n\u001b[32m     53\u001b[39m \u001b[38;5;250m\u001b[39m\u001b[33;03m\"\"\"Embed a list of n documents/words into an n-dimensional\u001b[39;00m\n\u001b[32m     54\u001b[39m \u001b[33;03mmatrix of embeddings.\u001b[39;00m\n\u001b[32m     55\u001b[39m \n\u001b[32m   (...)\u001b[39m\u001b[32m     62\u001b[39m \u001b[33;03m    that each have an embeddings size of `m`\u001b[39;00m\n\u001b[32m     63\u001b[39m \u001b[33;03m\"\"\"\u001b[39;00m\n\u001b[32m     64\u001b[39m \u001b[38;5;28mself\u001b[39m.encode_kwargs.update({\u001b[33m\"\u001b[39m\u001b[33mshow_progress_bar\u001b[39m\u001b[33m\"\u001b[39m: verbose})\n\u001b[32m---> \u001b[39m\u001b[32m65\u001b[39m embeddings = \u001b[38;5;28;43mself\u001b[39;49m\u001b[43m.\u001b[49m\u001b[43membedding_model\u001b[49m\u001b[43m.\u001b[49m\u001b[43mencode\u001b[49m\u001b[43m(\u001b[49m\u001b[43mdocuments\u001b[49m\u001b[43m,\u001b[49m\u001b[43m \u001b[49m\u001b[43m*\u001b[49m\u001b[43m*\u001b[49m\u001b[38;5;28;43mself\u001b[39;49m\u001b[43m.\u001b[49m\u001b[43mencode_kwargs\u001b[49m\u001b[43m)\u001b[49m\n\u001b[32m     66\u001b[39m \u001b[38;5;28;01mreturn\u001b[39;00m embeddings\n",
      "\u001b[36mFile \u001b[39m\u001b[32m~/MSDS/deeplearning_dogwhistle_project/.venv/lib/python3.11/site-packages/sentence_transformers/SentenceTransformer.py:736\u001b[39m, in \u001b[36mSentenceTransformer.encode\u001b[39m\u001b[34m(self, sentences, prompt_name, prompt, batch_size, show_progress_bar, output_value, precision, convert_to_numpy, convert_to_tensor, device, normalize_embeddings, **kwargs)\u001b[39m\n\u001b[32m    734\u001b[39m             all_embeddings = np.asarray([emb.float().numpy() \u001b[38;5;28;01mfor\u001b[39;00m emb \u001b[38;5;129;01min\u001b[39;00m all_embeddings])\n\u001b[32m    735\u001b[39m         \u001b[38;5;28;01melse\u001b[39;00m:\n\u001b[32m--> \u001b[39m\u001b[32m736\u001b[39m             all_embeddings = np.asarray(\u001b[43m[\u001b[49m\u001b[43memb\u001b[49m\u001b[43m.\u001b[49m\u001b[43mnumpy\u001b[49m\u001b[43m(\u001b[49m\u001b[43m)\u001b[49m\u001b[43m \u001b[49m\u001b[38;5;28;43;01mfor\u001b[39;49;00m\u001b[43m \u001b[49m\u001b[43memb\u001b[49m\u001b[43m \u001b[49m\u001b[38;5;129;43;01min\u001b[39;49;00m\u001b[43m \u001b[49m\u001b[43mall_embeddings\u001b[49m\u001b[43m]\u001b[49m)\n\u001b[32m    737\u001b[39m \u001b[38;5;28;01melif\u001b[39;00m \u001b[38;5;28misinstance\u001b[39m(all_embeddings, np.ndarray):\n\u001b[32m    738\u001b[39m     all_embeddings = [torch.from_numpy(embedding) \u001b[38;5;28;01mfor\u001b[39;00m embedding \u001b[38;5;129;01min\u001b[39;00m all_embeddings]\n",
      "\u001b[36mFile \u001b[39m\u001b[32m~/MSDS/deeplearning_dogwhistle_project/.venv/lib/python3.11/site-packages/sentence_transformers/SentenceTransformer.py:736\u001b[39m, in \u001b[36m<listcomp>\u001b[39m\u001b[34m(.0)\u001b[39m\n\u001b[32m    734\u001b[39m             all_embeddings = np.asarray([emb.float().numpy() \u001b[38;5;28;01mfor\u001b[39;00m emb \u001b[38;5;129;01min\u001b[39;00m all_embeddings])\n\u001b[32m    735\u001b[39m         \u001b[38;5;28;01melse\u001b[39;00m:\n\u001b[32m--> \u001b[39m\u001b[32m736\u001b[39m             all_embeddings = np.asarray([\u001b[43memb\u001b[49m\u001b[43m.\u001b[49m\u001b[43mnumpy\u001b[49m\u001b[43m(\u001b[49m\u001b[43m)\u001b[49m \u001b[38;5;28;01mfor\u001b[39;00m emb \u001b[38;5;129;01min\u001b[39;00m all_embeddings])\n\u001b[32m    737\u001b[39m \u001b[38;5;28;01melif\u001b[39;00m \u001b[38;5;28misinstance\u001b[39m(all_embeddings, np.ndarray):\n\u001b[32m    738\u001b[39m     all_embeddings = [torch.from_numpy(embedding) \u001b[38;5;28;01mfor\u001b[39;00m embedding \u001b[38;5;129;01min\u001b[39;00m all_embeddings]\n",
      "\u001b[31mRuntimeError\u001b[39m: Numpy is not available"
     ]
    }
   ],
   "source": [
    "import numpy as np\n",
    "# -------------------------------\n",
    "# Logistic Regression Using PREDICT Features\n",
    "# -------------------------------\n",
    "from sklearn.linear_model import LogisticRegression\n",
    "from sklearn.metrics import classification_report\n",
    "from sklearn.model_selection import train_test_split\n",
    "\n",
    "feature_rows = []\n",
    "\n",
    "for row in mixed_df.itertuples():\n",
    "    text = row.content\n",
    "    label = row.label\n",
    "    tox_score = get_toxic_score(text)\n",
    "    keywords_yake = extract_keywords_yake(text)\n",
    "    keywords_kb = extract_keywords_keybert(text)\n",
    "\n",
    "    feature_rows.append({\n",
    "        \"toxicity_score\": tox_score,\n",
    "        \"num_keywords_yake\": len(keywords_yake),\n",
    "        \"num_keywords_keybert\": len(keywords_kb),\n",
    "        \"post_length\": len(text),\n",
    "        \"label\": label\n",
    "    })\n",
    "\n",
    "features_df = pd.DataFrame(feature_rows)\n",
    "\n",
    "X = features_df.drop(columns=[\"label\"])\n",
    "y = features_df[\"label\"]\n",
    "\n",
    "X_train, X_test, y_train, y_test = train_test_split(X, y, test_size=0.2, random_state=42)\n",
    "\n",
    "logreg = LogisticRegression()\n",
    "logreg.fit(X_train, y_train)\n",
    "y_pred = logreg.predict(X_test)\n",
    "\n",
    "print(\"Logistic Regression on PREDICT Features:\")\n",
    "print(classification_report(y_test, y_pred))\n"
   ]
  },
  {
   "cell_type": "markdown",
   "id": "27cefc1b",
   "metadata": {},
   "source": [
    "# Running the Fine-Tuned PREDICT on the dataset"
   ]
  },
  {
   "cell_type": "code",
   "execution_count": null,
   "id": "a5e4d919",
   "metadata": {},
   "outputs": [
    {
     "name": "stdout",
     "output_type": "stream",
     "text": [
      "Loading fine-tuned PREDICT classifier model...\n",
      "Running PREDICT on nearest neighbors...\n",
      "Retrieved 5 neighbor posts.\n",
      "Neighbor 1 | Toxicity Score: 0.000\n",
      "Neighbor 1 | Toxic: False\n",
      "Neighbor 2 | Toxicity Score: 0.999\n",
      "Neighbor 2 | Toxic: True\n",
      "Neighbor 3 | Toxicity Score: 0.172\n",
      "Neighbor 3 | Toxic: False\n",
      "Neighbor 4 | Toxicity Score: 0.000\n",
      "Neighbor 4 | Toxic: False\n",
      "Neighbor 5 | Toxicity Score: 0.000\n",
      "Neighbor 5 | Toxic: False\n",
      "PREDICT returned 1 toxic posts with keywords.\n",
      "\n",
      "Post: This aligns closely with my analysis of the rise of gender identity ideology. Society is constantly concocting alternative routes around confronting trauma, individually, and collectively. A must read on this phenomenon is Judith Lewis Herman, *Trauma and Recovery*.\n",
      "Extracted Keywords: ['ideology', 'gender identity ideology', 'rise of gender', 'trauma', 'confronting', 'identity ideology', 'Judith Lewis Herman', 'aligns closely', 'gender', 'judith']\n"
     ]
    }
   ],
   "source": [
    "texts = mixed_df['example'].tolist()  # Adjust column name if needed\n",
    "# -------------------------------\n",
    "# PREDICT Pipeline: Filter + Keyword Extraction\n",
    "# -------------------------------\n",
    "\n",
    "# Load fine-tuned classifier\n",
    "print(\"Loading fine-tuned PREDICT classifier model...\")\n",
    "tokenizer = AutoTokenizer.from_pretrained(\"./finetuned_predict_model\")\n",
    "if tokenizer.pad_token is None:\n",
    "    tokenizer.add_special_tokens({'pad_token': '[PAD]'})\n",
    "\n",
    "classifier_model = AutoModelForSequenceClassification.from_pretrained(\"./finetuned_predict_model\")\n",
    "classifier_model.resize_token_embeddings(len(tokenizer))\n",
    "classifier_model.eval()\n",
    "\n",
    "# Initialize YAKE and KeyBERT keyword extractors\n",
    "kw_extractor_yake = yake.KeywordExtractor(top=5, stopwords=None)\n",
    "kw_extractor_kb = KeyBERT(model=EMBEDDING_MODEL_NAME)\n",
    "\n",
    "def get_toxic_score(text):\n",
    "    inputs = tokenizer(text, return_tensors=\"pt\", truncation=True, padding=True)\n",
    "    with torch.no_grad():\n",
    "        outputs = classifier_model(**inputs)\n",
    "        probs = F.softmax(outputs.logits, dim=-1)[0]\n",
    "    return probs[1].item()\n",
    "\n",
    "def extract_keywords_yake(text):\n",
    "    return [kw for kw, score in kw_extractor_yake.extract_keywords(text)]\n",
    "\n",
    "def extract_keywords_keybert(text):\n",
    "    return [kw for kw, _ in kw_extractor_kb.extract_keywords(text, top_n=5)]\n",
    "\n",
    "# Run PREDICT on neighbors of example query\n",
    "print(\"Running PREDICT on nearest neighbors...\")\n",
    "example_query = texts[12]\n",
    "neighbors = get_neighbors(example_query, k=5)\n",
    "predict_results = []\n",
    "\n",
    "print(f\"Retrieved {len(neighbors['documents'][0])} neighbor posts.\")\n",
    "\n",
    "for i, post in enumerate(neighbors['documents'][0]):\n",
    "    score_raw = get_toxic_score(post)\n",
    "    print(f\"Neighbor {i+1} | Toxicity Score: {score_raw:.3f}\")\n",
    "    if score_raw >= 0.2:  # lowered threshold from 0.3 to 0.2\n",
    "        print(f\"Neighbor {i+1} | Toxic: True\")\n",
    "        keywords_yake = extract_keywords_yake(post)\n",
    "        keywords_kb = extract_keywords_keybert(post)\n",
    "        combined_keywords = list(set(keywords_yake + keywords_kb))\n",
    "        filtered_keywords = [kw for kw in combined_keywords if len(kw) > 3 and kw.lower() not in {\"going\", \"today\", \"very\", \"have\", \"back\", \"face\", \"every\", \"copy\", \"copies\"}]\n",
    "        predict_results.append({\n",
    "            'post': post,\n",
    "            'keywords': filtered_keywords\n",
    "        })\n",
    "    else:\n",
    "        print(f\"Neighbor {i+1} | Toxic: False\")\n",
    "\n",
    "print(f\"PREDICT returned {len(predict_results)} toxic posts with keywords.\")\n",
    "for result in predict_results:\n",
    "    print(\"\\nPost:\", result['post'])\n",
    "    print(\"Extracted Keywords:\", result['keywords'])\n"
   ]
  },
  {
   "cell_type": "markdown",
   "id": "cdbaa14c",
   "metadata": {},
   "source": [
    "# Evaluating the tuned PREDICT on the dataset"
   ]
  },
  {
   "cell_type": "code",
   "execution_count": null,
   "id": "81a5b437",
   "metadata": {},
   "outputs": [
    {
     "name": "stdout",
     "output_type": "stream",
     "text": [
      "Initial PREDICT Classifier Evaluation on Full Mixed Dataset:\n",
      "              precision    recall  f1-score   support\n",
      "\n",
      "           0       1.00      0.96      0.98        50\n",
      "           1       0.96      1.00      0.98        51\n",
      "\n",
      "    accuracy                           0.98       101\n",
      "   macro avg       0.98      0.98      0.98       101\n",
      "weighted avg       0.98      0.98      0.98       101\n",
      "\n"
     ]
    }
   ],
   "source": [
    "from sklearn.metrics import classification_report\n",
    "\n",
    "y_true = []\n",
    "y_pred = []\n",
    "\n",
    "for row in mixed_df.itertuples():\n",
    "    text = row.example  # or row.example, depending on column name\n",
    "    label = row.label\n",
    "    score = get_toxic_score(text)\n",
    "    \n",
    "    y_true.append(label)\n",
    "    y_pred.append(1 if score >= 0.2 else 0)  # adjust threshold if needed\n",
    "\n",
    "print(\"Initial PREDICT Classifier Evaluation on Full Mixed Dataset:\")\n",
    "print(classification_report(y_true, y_pred))"
   ]
  },
  {
   "cell_type": "code",
   "execution_count": null,
   "id": "d28ac60f",
   "metadata": {},
   "outputs": [
    {
     "name": "stdout",
     "output_type": "stream",
     "text": [
      "\n",
      "ENSEMBLE Evaluation (PREDICT OR DIRECT):\n",
      "              precision    recall  f1-score   support\n",
      "\n",
      "           0       1.00      0.82      0.90        50\n",
      "           1       0.85      1.00      0.92        51\n",
      "\n",
      "    accuracy                           0.91       101\n",
      "   macro avg       0.93      0.91      0.91       101\n",
      "weighted avg       0.92      0.91      0.91       101\n",
      "\n"
     ]
    }
   ],
   "source": [
    "# Detection wrappers\n",
    "\n",
    "def predict_detects(post):\n",
    "    return get_toxic_score(post) >= 0.2\n",
    "\n",
    "def direct_detects(post):\n",
    "    try:\n",
    "        response = call_llm_direct(post)\n",
    "        parsed = json.loads(response)\n",
    "        return parsed.get(\"is_dog_whistle\", False)\n",
    "    except:\n",
    "        return False\n",
    "\n",
    "from sklearn.metrics import classification_report\n",
    "\n",
    "results = []\n",
    "\n",
    "for row in mixed_df.itertuples():\n",
    "    post = row.example\n",
    "    label = row.label\n",
    "\n",
    "    predict_flag = predict_detects(post)\n",
    "    direct_flag = direct_detects(post)\n",
    "\n",
    "    results.append({\n",
    "        \"post\": post,\n",
    "        \"label\": label,\n",
    "        \"predict_detected\": int(predict_flag),\n",
    "        \"direct_detected\": int(direct_flag)\n",
    "    })\n",
    "# -------------------------------\n",
    "# ENSEMBLE Evaluation: PREDICT OR DIRECT\n",
    "# -------------------------------\n",
    "from sklearn.metrics import classification_report\n",
    "\n",
    "ensemble_preds = [\n",
    "    int(r[\"predict_detected\"] or r[\"direct_detected\"])\n",
    "    for r in results\n",
    "]\n",
    "\n",
    "print(\"\\nENSEMBLE Evaluation (PREDICT OR DIRECT):\")\n",
    "print(classification_report([r[\"label\"] for r in results], ensemble_preds))"
   ]
  },
  {
   "cell_type": "code",
   "execution_count": null,
   "id": "be1268ec",
   "metadata": {},
   "outputs": [
    {
     "name": "stdout",
     "output_type": "stream",
     "text": [
      "\n",
      "ENSEMBLE Evaluation (PREDICT AND DIRECT):\n",
      "              precision    recall  f1-score   support\n",
      "\n",
      "           0       0.83      0.98      0.90        50\n",
      "           1       0.98      0.80      0.88        51\n",
      "\n",
      "    accuracy                           0.89       101\n",
      "   macro avg       0.90      0.89      0.89       101\n",
      "weighted avg       0.90      0.89      0.89       101\n",
      "\n"
     ]
    }
   ],
   "source": [
    "# -------------------------------\n",
    "# ENSEMBLE Evaluation: PREDICT AND DIRECT\n",
    "# -------------------------------\n",
    "from sklearn.metrics import classification_report\n",
    "\n",
    "ensemble_preds = [\n",
    "    int(r[\"predict_detected\"] and r[\"direct_detected\"])\n",
    "    for r in results\n",
    "]\n",
    "\n",
    "print(\"\\nENSEMBLE Evaluation (PREDICT AND DIRECT):\")\n",
    "print(classification_report([r[\"label\"] for r in results], ensemble_preds))"
   ]
  },
  {
   "cell_type": "code",
   "execution_count": null,
   "id": "d54c2300",
   "metadata": {},
   "outputs": [
    {
     "name": "stdout",
     "output_type": "stream",
     "text": [
      "\n",
      "========= WEIGHTED ENSEMBLE GRID SEARCH =========\n",
      "PREDICT_weight | DIRECT_weight | Accuracy | F1 Score\n",
      "0.00           | 1.00          | 0.82     | 0.82\n",
      "0.10           | 0.90          | 0.82     | 0.82\n",
      "0.20           | 0.80          | 0.82     | 0.82\n",
      "0.30           | 0.70          | 0.82     | 0.82\n",
      "0.40           | 0.60          | 0.82     | 0.82\n",
      "0.50           | 0.50          | 0.91     | 0.92\n",
      "0.60           | 0.40          | 0.98     | 0.98\n",
      "0.70           | 0.30          | 0.98     | 0.98\n",
      "0.80           | 0.20          | 0.98     | 0.98\n",
      "0.90           | 0.10          | 0.98     | 0.98\n",
      "1.00           | 0.00          | 0.98     | 0.98\n"
     ]
    }
   ],
   "source": [
    "from sklearn.metrics import f1_score, accuracy_score\n",
    "\n",
    "print(\"\\n========= WEIGHTED ENSEMBLE GRID SEARCH =========\")\n",
    "print(\"PREDICT_weight | DIRECT_weight | Accuracy | F1 Score\")\n",
    "\n",
    "for pw in [round(i * 0.1, 2) for i in range(11)]:  # 0.0 to 1.0\n",
    "    dw = round(1.0 - pw, 2)\n",
    "    preds = []\n",
    "\n",
    "    for r in results:\n",
    "        score = pw * r[\"predict_detected\"] + dw * r[\"direct_detected\"]\n",
    "        preds.append(int(score >= 0.5))\n",
    "\n",
    "    acc = accuracy_score([r[\"label\"] for r in results], preds)\n",
    "    f1 = f1_score([r[\"label\"] for r in results], preds)\n",
    "\n",
    "    print(f\"{pw:.2f}           | {dw:.2f}          | {acc:.2f}     | {f1:.2f}\")\n"
   ]
  },
  {
   "cell_type": "code",
   "execution_count": null,
   "id": "3ee29421",
   "metadata": {},
   "outputs": [
    {
     "name": "stdout",
     "output_type": "stream",
     "text": [
      "4.51.3\n"
     ]
    }
   ],
   "source": [
    "import transformers\n",
    "print(transformers.__version__)"
   ]
  },
  {
   "cell_type": "code",
   "execution_count": 19,
   "id": "2732cfa3",
   "metadata": {},
   "outputs": [],
   "source": [
    "from transformers import TrainingArguments"
   ]
  },
  {
   "cell_type": "code",
   "execution_count": 20,
   "id": "509244b5",
   "metadata": {},
   "outputs": [
    {
     "ename": "AttributeError",
     "evalue": "'Pandas' object has no attribute 'example'",
     "output_type": "error",
     "traceback": [
      "\u001b[31m---------------------------------------------------------------------------\u001b[39m",
      "\u001b[31mAttributeError\u001b[39m                            Traceback (most recent call last)",
      "\u001b[36mCell\u001b[39m\u001b[36m \u001b[39m\u001b[32mIn[20]\u001b[39m\u001b[32m, line 10\u001b[39m\n\u001b[32m      7\u001b[39m hybrid_rows = []\n\u001b[32m      9\u001b[39m \u001b[38;5;28;01mfor\u001b[39;00m row \u001b[38;5;129;01min\u001b[39;00m mixed_df.itertuples():\n\u001b[32m---> \u001b[39m\u001b[32m10\u001b[39m     post = \u001b[43mrow\u001b[49m\u001b[43m.\u001b[49m\u001b[43mexample\u001b[49m\n\u001b[32m     11\u001b[39m     label = row.label\n\u001b[32m     13\u001b[39m     \u001b[38;5;66;03m# Fine-tuned score\u001b[39;00m\n",
      "\u001b[31mAttributeError\u001b[39m: 'Pandas' object has no attribute 'example'"
     ]
    }
   ],
   "source": [
    "# -------------------------------\n",
    "# Hybrid Ensemble: Finetuned + Logistic + DIRECT\n",
    "# -------------------------------\n",
    "from sklearn.metrics import classification_report\n",
    "\n",
    "# STEP 1: Get prediction components\n",
    "hybrid_rows = []\n",
    "\n",
    "for row in mixed_df.itertuples():\n",
    "    post = row.example\n",
    "    label = row.label\n",
    "\n",
    "    # Fine-tuned score\n",
    "    inputs = tokenizer(post, return_tensors=\"pt\", truncation=True, padding=True)\n",
    "    with torch.no_grad():\n",
    "        logits = classifier_model(**inputs).logits\n",
    "        ft_score = F.softmax(logits, dim=-1)[0][1].item()\n",
    "\n",
    "    # Logistic regression score (recompute features)\n",
    "    toks = get_toxic_score(post)\n",
    "    kws_yake = extract_keywords_yake(post)\n",
    "    kws_kb = extract_keywords_keybert(post)\n",
    "    logreg_input = [[\n",
    "        toks,\n",
    "        len(kws_yake),\n",
    "        len(kws_kb),\n",
    "        len(post)\n",
    "    ]]\n",
    "    logreg_prob = logreg.predict_proba(logreg_input)[0][1]\n",
    "\n",
    "    # DIRECT flag\n",
    "    try:\n",
    "        direct_json = json.loads(call_llm_direct(post))\n",
    "        direct_flag = int(direct_json.get(\"is_dog_whistle\", False))\n",
    "    except:\n",
    "        direct_flag = 0\n",
    "\n",
    "    hybrid_rows.append({\n",
    "        \"post\": post,\n",
    "        \"label\": label,\n",
    "        \"ft_score\": ft_score,\n",
    "        \"logreg_prob\": logreg_prob,\n",
    "        \"direct_flag\": direct_flag\n",
    "    })\n",
    "\n",
    "hybrid_df = pd.DataFrame(hybrid_rows)\n"
   ]
  },
  {
   "cell_type": "code",
   "execution_count": null,
   "id": "bf9c6243",
   "metadata": {},
   "outputs": [
    {
     "name": "stdout",
     "output_type": "stream",
     "text": [
      "\n",
      "========= HYBRID ENSEMBLE GRID SEARCH =========\n",
      "ft | lr | dir | thresh | Accuracy | F1\n",
      "0.3 | 0.3 | 0.4 | 0.5 | 0.98 | 0.98\n",
      "0.3 | 0.3 | 0.4 | 0.6 | 0.90 | 0.89\n",
      "0.3 | 0.2 | 0.5 | 0.5 | 0.83 | 0.83\n",
      "0.3 | 0.2 | 0.5 | 0.6 | 0.90 | 0.89\n",
      "0.4 | 0.2 | 0.4 | 0.5 | 0.98 | 0.98\n",
      "0.4 | 0.2 | 0.4 | 0.6 | 0.90 | 0.89\n"
     ]
    }
   ],
   "source": [
    "print(\"\\n========= HYBRID ENSEMBLE GRID SEARCH =========\")\n",
    "print(\"ft | lr | dir | thresh | Accuracy | F1\")\n",
    "\n",
    "best_combo = None\n",
    "best_f1 = 0\n",
    "\n",
    "for ft_w in [0.3, 0.4]:\n",
    "    for lr_w in [0.3, 0.2]:\n",
    "        for dir_w in [0.4, 0.5]:\n",
    "            for threshold in [0.5, 0.6]:\n",
    "                if abs(ft_w + lr_w + dir_w - 1.0) > 0.01:\n",
    "                    continue\n",
    "\n",
    "                preds = []\n",
    "                for r in hybrid_rows:\n",
    "                    score = (\n",
    "                        ft_w * r[\"ft_score\"] +\n",
    "                        lr_w * r[\"logreg_prob\"] +\n",
    "                        dir_w * r[\"direct_flag\"]\n",
    "                    )\n",
    "                    preds.append(int(score >= threshold))\n",
    "\n",
    "                acc = accuracy_score([r[\"label\"] for r in hybrid_rows], preds)\n",
    "                f1 = f1_score([r[\"label\"] for r in hybrid_rows], preds)\n",
    "\n",
    "                print(f\"{ft_w:.1f} | {lr_w:.1f} | {dir_w:.1f} | {threshold:.1f} | {acc:.2f} | {f1:.2f}\")\n",
    "\n",
    "                if f1 > best_f1:\n",
    "                    best_f1 = f1\n",
    "                    best_combo = (ft_w, lr_w, dir_w, threshold)\n"
   ]
  },
  {
   "cell_type": "code",
   "execution_count": 21,
   "id": "4185b4c6",
   "metadata": {},
   "outputs": [
    {
     "ename": "NameError",
     "evalue": "name 'best_combo' is not defined",
     "output_type": "error",
     "traceback": [
      "\u001b[31m---------------------------------------------------------------------------\u001b[39m",
      "\u001b[31mNameError\u001b[39m                                 Traceback (most recent call last)",
      "\u001b[36mCell\u001b[39m\u001b[36m \u001b[39m\u001b[32mIn[21]\u001b[39m\u001b[32m, line 2\u001b[39m\n\u001b[32m      1\u001b[39m \u001b[38;5;66;03m# Re-evaluate best combo\u001b[39;00m\n\u001b[32m----> \u001b[39m\u001b[32m2\u001b[39m ft_w, lr_w, dir_w, threshold = \u001b[43mbest_combo\u001b[49m\n\u001b[32m      3\u001b[39m final_preds = []\n\u001b[32m      5\u001b[39m \u001b[38;5;28;01mfor\u001b[39;00m r \u001b[38;5;129;01min\u001b[39;00m hybrid_rows:\n",
      "\u001b[31mNameError\u001b[39m: name 'best_combo' is not defined"
     ]
    }
   ],
   "source": [
    "# Re-evaluate best combo\n",
    "ft_w, lr_w, dir_w, threshold = best_combo\n",
    "final_preds = []\n",
    "\n",
    "for r in hybrid_rows:\n",
    "    score = (\n",
    "        ft_w * r[\"ft_score\"] +\n",
    "        lr_w * r[\"logreg_prob\"] +\n",
    "        dir_w * r[\"direct_flag\"]\n",
    "    )\n",
    "    final_preds.append(int(score >= threshold))\n",
    "\n",
    "print(\"\\n========= FINAL HYBRID ENSEMBLE EVALUATION =========\")\n",
    "print(f\"Best weights → ft: {ft_w}, lr: {lr_w}, dir: {dir_w}, threshold: {threshold}\")\n",
    "print(classification_report([r[\"label\"] for r in hybrid_rows], final_preds))"
   ]
  },
  {
   "cell_type": "markdown",
   "id": "13905033",
   "metadata": {},
   "source": [
    "# Evaluating on the test dataset"
   ]
  },
  {
   "cell_type": "code",
   "execution_count": null,
   "id": "d3d9232e",
   "metadata": {},
   "outputs": [],
   "source": [
    "combined_df"
   ]
  },
  {
   "cell_type": "code",
   "execution_count": 39,
   "id": "165cc2a9",
   "metadata": {},
   "outputs": [
    {
     "name": "stdout",
     "output_type": "stream",
     "text": [
      "Fine-tuned PREDICT Evaluation:\n",
      "              precision    recall  f1-score   support\n",
      "\n",
      "           0       0.20      0.94      0.32       813\n",
      "           1       0.71      0.04      0.07      3252\n",
      "\n",
      "    accuracy                           0.22      4065\n",
      "   macro avg       0.45      0.49      0.20      4065\n",
      "weighted avg       0.61      0.22      0.12      4065\n",
      "\n"
     ]
    }
   ],
   "source": [
    "from transformers import AutoModelForSequenceClassification\n",
    "from sklearn.metrics import classification_report, confusion_matrix\n",
    "import torch.nn.functional as F\n",
    "\n",
    "# Load the fine-tuned model\n",
    "ft_model = AutoModelForSequenceClassification.from_pretrained(\"./finetuned_predict_model\")\n",
    "ft_model.eval()\n",
    "\n",
    "ft_preds = []\n",
    "for row in combined_df.itertuples():\n",
    "    inputs = tokenizer(row.content, return_tensors=\"pt\", truncation=True, padding=\"max_length\", max_length=512)\n",
    "    with torch.no_grad():\n",
    "        probs = F.softmax(ft_model(**inputs).logits, dim=-1)[0]\n",
    "    ft_preds.append(torch.argmax(probs).item())\n",
    "\n",
    "print(\"Fine-tuned PREDICT Evaluation:\")\n",
    "print(classification_report(combined_df['label'], ft_preds))\n"
   ]
  },
  {
   "cell_type": "code",
   "execution_count": 43,
   "id": "8dca7a0a",
   "metadata": {},
   "outputs": [
    {
     "name": "stdout",
     "output_type": "stream",
     "text": [
      "Logistic Regression Evaluation:\n",
      "              precision    recall  f1-score   support\n",
      "\n",
      "           0       0.20      0.94      0.32       813\n",
      "           1       0.71      0.04      0.07      3252\n",
      "\n",
      "    accuracy                           0.22      4065\n",
      "   macro avg       0.45      0.49      0.20      4065\n",
      "weighted avg       0.61      0.22      0.12      4065\n",
      "\n"
     ]
    }
   ],
   "source": [
    "# -------------------------------\n",
    "# Logistic Regression Evaluation on combined_df\n",
    "# -------------------------------\n",
    "\n",
    "from sklearn.linear_model import LogisticRegression\n",
    "from sklearn.metrics import classification_report\n",
    "import torch.nn.functional as F\n",
    "\n",
    "# Updated get_toxic_score with truncation fix\n",
    "def get_toxic_score(text):\n",
    "    inputs = tokenizer(\n",
    "        text,\n",
    "        return_tensors=\"pt\",\n",
    "        truncation=True,\n",
    "        padding=\"max_length\",\n",
    "        max_length=512\n",
    "    )\n",
    "    with torch.no_grad():\n",
    "        outputs = classifier_model(**inputs)\n",
    "        probs = F.softmax(outputs.logits, dim=-1)[0]\n",
    "    return probs[1].item()\n",
    "\n",
    "# Extract features\n",
    "logreg_rows = []\n",
    "for row in combined_df.itertuples():\n",
    "    toks = get_toxic_score(row.content)\n",
    "    kws_yake = extract_keywords_yake(row.content)\n",
    "    kws_kb = extract_keywords_keybert(row.content)\n",
    "    logreg_rows.append({\n",
    "        \"toxicity_score\": toks,\n",
    "        \"num_keywords_yake\": len(kws_yake),\n",
    "        \"num_keywords_keybert\": len(kws_kb),\n",
    "        \"post_length\": len(row.content)\n",
    "    })\n",
    "\n",
    "# Predict\n",
    "logreg_features = pd.DataFrame(logreg_rows)\n",
    "logreg_preds = logreg.predict(logreg_features)\n",
    "\n",
    "# Evaluate\n",
    "print(\"Logistic Regression Evaluation:\")\n",
    "print(classification_report(combined_df['label'], logreg_preds))\n"
   ]
  },
  {
   "cell_type": "code",
   "execution_count": 45,
   "id": "edb6a2fb",
   "metadata": {},
   "outputs": [
    {
     "name": "stdout",
     "output_type": "stream",
     "text": [
      "DIRECT Evaluation:\n",
      "              precision    recall  f1-score   support\n",
      "\n",
      "           0       0.48      0.93      0.63       813\n",
      "           1       0.98      0.75      0.85      3252\n",
      "\n",
      "    accuracy                           0.78      4065\n",
      "   macro avg       0.73      0.84      0.74      4065\n",
      "weighted avg       0.88      0.78      0.80      4065\n",
      "\n"
     ]
    }
   ],
   "source": [
    "import json\n",
    "\n",
    "direct_preds = []\n",
    "for row in combined_df.itertuples():\n",
    "    try:\n",
    "        direct_json = json.loads(call_llm_direct(row.content))\n",
    "        direct_preds.append(int(direct_json.get(\"is_dog_whistle\", False)))\n",
    "    except:\n",
    "        direct_preds.append(0)\n",
    "\n",
    "print(\"DIRECT Evaluation:\")\n",
    "print(classification_report(combined_df['label'], direct_preds))\n"
   ]
  }
 ],
 "metadata": {
  "kernelspec": {
   "display_name": ".venv",
   "language": "python",
   "name": "python3"
  },
  "language_info": {
   "codemirror_mode": {
    "name": "ipython",
    "version": 3
   },
   "file_extension": ".py",
   "mimetype": "text/x-python",
   "name": "python",
   "nbconvert_exporter": "python",
   "pygments_lexer": "ipython3",
   "version": "3.11.5"
  }
 },
 "nbformat": 4,
 "nbformat_minor": 5
}
